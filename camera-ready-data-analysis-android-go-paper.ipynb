{
 "cells": [
  {
   "cell_type": "markdown",
   "metadata": {},
   "source": [
    "# Replication code for the following paper: \n",
    "### `\"Causal Impact of Android Go on Mobile Web Performance\", ACM Internet Measurement Conference (IMC), October 25-27, 2022, Nice, France`\n",
    "- Project Team: [Dr. Ihsan Ayyub Qazi (LUMS)](https://www.ihsanqazi.com), [Dr. Zafar Ayyub Qazi (LUMS)](https://web.lums.edu.pk/~zafar/), and Muhammad Abdullah (LUMS)\n",
    "- Contact: For any questions or feedback, please contact Ihsan Ayyub Qazi (ihsan.qazi@lums.edu.pk)\n",
    "- [ACM IMC 2022 Website]([link](https://conferences.sigcomm.org/imc/2022/accepted/))\n",
    "\n",
    "\n",
    "---\n",
    "**This notebook contains the following analyses as well as code for generating paper plots. The generated plots are saved in the \"figs\" folder locally.**\n",
    "- **Impact of the Operating System (Android Go vs. non-Go)**\n",
    "    * Outcome variables: Time-To-First-Byte (TTFB), Page Load Time (PLT), and Crash Rate\n",
    "\n",
    "- **Heterogeneous Treatment Effects Analysis (i.e., _impact of Android Go across difference memory pressure states_)**\n",
    "    * No-MP: Normal memory pressure state\n",
    "    * Low-MP: Low memory pressure state\n",
    "    * High-MP: High memory pressure state\n",
    "\n",
    "- **Impact of Webpage Characteristics on PLT across Go & non-Go** (e.g., scripts, JS, images, fonts, iframes)\n",
    "    * Using Random Forest (RF) to find most predictive features of PLT\n",
    "\n",
    "**Approaches/Methods used the study**\n",
    "- Controlled Experiments\n",
    "- Difference-in-means Estimates\n",
    "- OLS regression (w/ and w/o interaction terms)\n",
    "- Heckman selection model (w/ and w/o interaction terms) --> see the accompanying R file `\"public_imc22_replicationCode.rmd\"` for replication of results involving the Heckman selection model as well as generating Appendix Table 8\n",
    "- Random forest (RF) regression\n",
    "---\n",
    "Other Notes\n",
    "- Non-Go is the same as GSI (Generic System Image)"
   ]
  },
  {
   "cell_type": "code",
   "execution_count": 98,
   "metadata": {},
   "outputs": [
    {
     "data": {
      "text/html": [
       "        <script type=\"text/javascript\">\n",
       "        window.PlotlyConfig = {MathJaxConfig: 'local'};\n",
       "        if (window.MathJax && window.MathJax.Hub && window.MathJax.Hub.Config) {window.MathJax.Hub.Config({SVG: {font: \"STIX-Web\"}});}\n",
       "        if (typeof require !== 'undefined') {\n",
       "        require.undef(\"plotly\");\n",
       "        requirejs.config({\n",
       "            paths: {\n",
       "                'plotly': ['https://cdn.plot.ly/plotly-2.12.1.min']\n",
       "            }\n",
       "        });\n",
       "        require(['plotly'], function(Plotly) {\n",
       "            window._Plotly = Plotly;\n",
       "        });\n",
       "        }\n",
       "        </script>\n",
       "        "
      ]
     },
     "metadata": {},
     "output_type": "display_data"
    }
   ],
   "source": [
    "import numpy as np\n",
    "import pandas as pd\n",
    "import matplotlib.pyplot as plt\n",
    "import math\n",
    "import random\n",
    "import seaborn as sns\n",
    "import statsmodels.api as sm\n",
    "import statsmodels.formula.api as smf\n",
    "import plotly.offline as py\n",
    "import plotly.express as px\n",
    "import plotly.graph_objects as go\n",
    "from plotly.subplots import make_subplots\n",
    "import plotly.figure_factory as ff\n",
    "import cufflinks as cf\n",
    "cf.set_config_file(offline=True, sharing=False, theme='ggplot');\n",
    "import torch\n",
    "from sklearn.linear_model import LinearRegression\n",
    "from scipy import stats\n",
    "import econtools"
   ]
  },
  {
   "cell_type": "markdown",
   "metadata": {},
   "source": [
    "## The Data\n",
    "This dataset contains data on page loads of Alexa top 100 pages over Android Go and Non-Go versions using the same entry-level smartphone (Nokia 1). Each row in the dataset corresponds to the average page load metrics (e.g., TTFB and PLT) for 10 runs along with information about the loaded Web pages and its various features (represented as seperate columns.\n",
    "\n",
    "In addition, page loads were carried out under different device memory pressure (MP) states; no MP, low MP, and high MP. The resulting dataset contains $N=600$ data samples, which are used for carrying out the primary analysis of the paper.\n",
    "\n",
    "For evaluation involving different Android Go versions and different mobile devices, we conducted additional measurements, which were saved in seperate CSV files and whose analysis is also reported in this notebook."
   ]
  },
  {
   "cell_type": "markdown",
   "metadata": {},
   "source": [
    "## Finding the Causal Impact of Android Go\n",
    "\n",
    "Our goal is to find the causal impact of Go on different outcomes (TTFB, PLT, and page crash rate) relative to non-Go versions of Android. To this end, we compute various estimates of the causal impact, which includes:\n",
    "1. Difference-in-means estimate\n",
    "2. OLS regression estimates with and without Web page features as control variables\n",
    "3. Heckman selection model to correct for selection bias introduced due to missing data resulting from page crashes (see the accompanying R file `\"public_imc22_replicationCode.rmd\"` for replicating results involving the Heckman selection model).\n",
    "\n",
    "In addition, we also conduct heterogeneous treatment effects analysis using the above approaches to analyze how the causal impact varies across different MP states."
   ]
  },
  {
   "cell_type": "code",
   "execution_count": 100,
   "metadata": {},
   "outputs": [
    {
     "name": "stdout",
     "output_type": "stream",
     "text": [
      "N (observations) = 588\n"
     ]
    },
    {
     "data": {
      "text/html": [
       "<div>\n",
       "<style scoped>\n",
       "    .dataframe tbody tr th:only-of-type {\n",
       "        vertical-align: middle;\n",
       "    }\n",
       "\n",
       "    .dataframe tbody tr th {\n",
       "        vertical-align: top;\n",
       "    }\n",
       "\n",
       "    .dataframe thead th {\n",
       "        text-align: right;\n",
       "    }\n",
       "</style>\n",
       "<table border=\"1\" class=\"dataframe\">\n",
       "  <thead>\n",
       "    <tr style=\"text-align: right;\">\n",
       "      <th></th>\n",
       "      <th>id</th>\n",
       "      <th>URL</th>\n",
       "      <th>os</th>\n",
       "      <th>mp_no</th>\n",
       "      <th>mp_low</th>\n",
       "      <th>mp_high</th>\n",
       "      <th>pagesize_kb</th>\n",
       "      <th>num_requests</th>\n",
       "      <th>num_scripts</th>\n",
       "      <th>scripts_kb</th>\n",
       "      <th>...</th>\n",
       "      <th>num_css</th>\n",
       "      <th>css_kb</th>\n",
       "      <th>dom_elements</th>\n",
       "      <th>iframes_kb</th>\n",
       "      <th>num_iframes</th>\n",
       "      <th>fonts_kb</th>\n",
       "      <th>requests_font</th>\n",
       "      <th>PLT</th>\n",
       "      <th>TTFB</th>\n",
       "      <th>crash</th>\n",
       "    </tr>\n",
       "  </thead>\n",
       "  <tbody>\n",
       "    <tr>\n",
       "      <th>486</th>\n",
       "      <td>487</td>\n",
       "      <td>https://www.arcgis.com</td>\n",
       "      <td>0</td>\n",
       "      <td>0</td>\n",
       "      <td>0</td>\n",
       "      <td>1</td>\n",
       "      <td>1418.32</td>\n",
       "      <td>44</td>\n",
       "      <td>13</td>\n",
       "      <td>1001.1152</td>\n",
       "      <td>...</td>\n",
       "      <td>5</td>\n",
       "      <td>135.189453</td>\n",
       "      <td>285</td>\n",
       "      <td>3.405273</td>\n",
       "      <td>5</td>\n",
       "      <td>56.833008</td>\n",
       "      <td>3</td>\n",
       "      <td>0.0</td>\n",
       "      <td>8150.3</td>\n",
       "      <td>1</td>\n",
       "    </tr>\n",
       "    <tr>\n",
       "      <th>487</th>\n",
       "      <td>488</td>\n",
       "      <td>https://www.nih.gov</td>\n",
       "      <td>0</td>\n",
       "      <td>0</td>\n",
       "      <td>0</td>\n",
       "      <td>1</td>\n",
       "      <td>520.07</td>\n",
       "      <td>53</td>\n",
       "      <td>14</td>\n",
       "      <td>239.4287</td>\n",
       "      <td>...</td>\n",
       "      <td>10</td>\n",
       "      <td>35.793945</td>\n",
       "      <td>844</td>\n",
       "      <td>15.301758</td>\n",
       "      <td>3</td>\n",
       "      <td>24.476562</td>\n",
       "      <td>3</td>\n",
       "      <td>0.0</td>\n",
       "      <td>3656.4</td>\n",
       "      <td>1</td>\n",
       "    </tr>\n",
       "    <tr>\n",
       "      <th>455</th>\n",
       "      <td>456</td>\n",
       "      <td>https://www.imdb.com</td>\n",
       "      <td>0</td>\n",
       "      <td>0</td>\n",
       "      <td>0</td>\n",
       "      <td>1</td>\n",
       "      <td>1834.56</td>\n",
       "      <td>99</td>\n",
       "      <td>38</td>\n",
       "      <td>854.0947</td>\n",
       "      <td>...</td>\n",
       "      <td>4</td>\n",
       "      <td>40.391602</td>\n",
       "      <td>3996</td>\n",
       "      <td>164.497070</td>\n",
       "      <td>6</td>\n",
       "      <td>32.281250</td>\n",
       "      <td>3</td>\n",
       "      <td>0.0</td>\n",
       "      <td>1892.9</td>\n",
       "      <td>1</td>\n",
       "    </tr>\n",
       "    <tr>\n",
       "      <th>290</th>\n",
       "      <td>291</td>\n",
       "      <td>https://www.paypal.com</td>\n",
       "      <td>0</td>\n",
       "      <td>0</td>\n",
       "      <td>1</td>\n",
       "      <td>0</td>\n",
       "      <td>3590.35</td>\n",
       "      <td>45</td>\n",
       "      <td>16</td>\n",
       "      <td>443.4805</td>\n",
       "      <td>...</td>\n",
       "      <td>1</td>\n",
       "      <td>49.665039</td>\n",
       "      <td>380</td>\n",
       "      <td>27.095703</td>\n",
       "      <td>6</td>\n",
       "      <td>35.820312</td>\n",
       "      <td>2</td>\n",
       "      <td>0.0</td>\n",
       "      <td>864.9</td>\n",
       "      <td>1</td>\n",
       "    </tr>\n",
       "    <tr>\n",
       "      <th>460</th>\n",
       "      <td>461</td>\n",
       "      <td>https://www.instructure.com</td>\n",
       "      <td>0</td>\n",
       "      <td>0</td>\n",
       "      <td>0</td>\n",
       "      <td>1</td>\n",
       "      <td>1667.58</td>\n",
       "      <td>107</td>\n",
       "      <td>54</td>\n",
       "      <td>1254.3770</td>\n",
       "      <td>...</td>\n",
       "      <td>8</td>\n",
       "      <td>61.076172</td>\n",
       "      <td>1400</td>\n",
       "      <td>54.578125</td>\n",
       "      <td>9</td>\n",
       "      <td>168.812500</td>\n",
       "      <td>7</td>\n",
       "      <td>0.0</td>\n",
       "      <td>1340.9</td>\n",
       "      <td>1</td>\n",
       "    </tr>\n",
       "  </tbody>\n",
       "</table>\n",
       "<p>5 rows × 22 columns</p>\n",
       "</div>"
      ],
      "text/plain": [
       "      id                          URL  os  mp_no  mp_low  mp_high  \\\n",
       "486  487       https://www.arcgis.com   0      0       0        1   \n",
       "487  488          https://www.nih.gov   0      0       0        1   \n",
       "455  456         https://www.imdb.com   0      0       0        1   \n",
       "290  291       https://www.paypal.com   0      0       1        0   \n",
       "460  461  https://www.instructure.com   0      0       0        1   \n",
       "\n",
       "     pagesize_kb  num_requests  num_scripts  scripts_kb  ...  num_css  \\\n",
       "486      1418.32            44           13   1001.1152  ...        5   \n",
       "487       520.07            53           14    239.4287  ...       10   \n",
       "455      1834.56            99           38    854.0947  ...        4   \n",
       "290      3590.35            45           16    443.4805  ...        1   \n",
       "460      1667.58           107           54   1254.3770  ...        8   \n",
       "\n",
       "         css_kb  dom_elements  iframes_kb  num_iframes    fonts_kb  \\\n",
       "486  135.189453           285    3.405273            5   56.833008   \n",
       "487   35.793945           844   15.301758            3   24.476562   \n",
       "455   40.391602          3996  164.497070            6   32.281250   \n",
       "290   49.665039           380   27.095703            6   35.820312   \n",
       "460   61.076172          1400   54.578125            9  168.812500   \n",
       "\n",
       "     requests_font  PLT    TTFB  crash  \n",
       "486              3  0.0  8150.3      1  \n",
       "487              3  0.0  3656.4      1  \n",
       "455              3  0.0  1892.9      1  \n",
       "290              2  0.0   864.9      1  \n",
       "460              7  0.0  1340.9      1  \n",
       "\n",
       "[5 rows x 22 columns]"
      ]
     },
     "execution_count": 100,
     "metadata": {},
     "output_type": "execute_result"
    }
   ],
   "source": [
    "# Clean data\n",
    "# 1. Remove alipay.com and jd.com (these pages did not load under both Go and No-MP even without any memory pressure, possibly due to blocking of these pages)\n",
    "# 2. If PLT value is 'E', convert to 0 (0 indicate that the page crashed)\n",
    "# 3. Convert the entire PLT column to be of type float\n",
    "\n",
    "data = pd.read_csv(\"imc22_dataset.csv\")\n",
    "\n",
    "# Step-1\n",
    "drop_index = data.loc[data[\"URL\"] == \"https://www.alipay.com\"].index\n",
    "data.drop(drop_index, axis=0, inplace=True)\n",
    "drop_index = data.loc[data[\"URL\"] == \"https://www.jd.com\"].index\n",
    "data.drop(drop_index, axis=0, inplace=True)\n",
    "print(\"N (observations) =\",data.count()[1])\n",
    "\n",
    "# Step-2\n",
    "## if PLT == E or 0, set crash=1 otherwise 0\n",
    "data['crash'] = np.where((data['PLT']=='E') | (data['PLT']=='0'), 1, 0)\n",
    "## if PLT == E, change to 0\n",
    "data['PLT'] = data['PLT'].replace('E',0)\n",
    "\n",
    "# Step-3\n",
    "## convert to float\n",
    "data['PLT'] = data['PLT'].astype(float)\n",
    "\n",
    "data.loc[data[\"crash\"]==1].sample(5)"
   ]
  },
  {
   "cell_type": "markdown",
   "metadata": {},
   "source": [
    "## <font color=blue>A. Time to First Byte (TTFB) Analysis</font>\n",
    "`Mean with CI plots + OLS Regression Analysis`\n",
    "\n",
    "### (i) Mean Difference in TTFB (Go vs. Non-Go AND across different MP states)\n",
    "- The treatment (Andriod Go) and control (Non-Go) groups are perfectly balanced because we are able to obtain TTFB values for all webpages"
   ]
  },
  {
   "cell_type": "code",
   "execution_count": 101,
   "metadata": {},
   "outputs": [
    {
     "name": "stdout",
     "output_type": "stream",
     "text": [
      "Non-Go TTFB mean = 1785.557482993197 std= 51.22504496922532\n",
      "Go TTFB     mean = 902.9783014789114 std= 19.550562766967822\n",
      "TTFB Ttest_indResult(statistic=-5.706941011765529, pvalue=1.8278110385299573e-08)\n",
      "\n",
      "Mean difference in TTFB (i.e., GSI-Go) =  -882.6 ms\n",
      "% Improvement in TTFB over non-Go:  49.42877448194976 %\n",
      "\n",
      "Mean difference in TTFB under No MP =  -29.7 ms\n",
      "Mean difference in TTFB under Low MP =  -693.3 ms\n",
      "Mean difference in TTFB under High MP =  -1924.7 ms\n"
     ]
    }
   ],
   "source": [
    "# overall difference in means\n",
    "diff = data.loc[data['os'] == 1][\"TTFB\"].mean() - data.loc[data['os'] == 0][\"TTFB\"].mean()\n",
    "diff_mp_no = data.loc[(data['os'] == 1) & (data['mp_no'] == 1)][\"TTFB\"].mean() - data.loc[(data['os'] == 0) & (data['mp_no'] == 1)][\"TTFB\"].mean()\n",
    "diff_mp_low = data.loc[(data['os'] == 1) & (data['mp_low'] == 1)][\"TTFB\"].mean() - data.loc[(data['os'] == 0) & (data['mp_low'] == 1)][\"TTFB\"].mean()\n",
    "diff_mp_high = data.loc[(data['os'] == 1) & (data['mp_high'] == 1)][\"TTFB\"].mean() - data.loc[(data['os'] == 0) & (data['mp_high'] == 1)][\"TTFB\"].mean()\n",
    "\n",
    "print(\"Non-Go TTFB mean =\", data.loc[data['os'] == 0][\"TTFB\"].mean(), \"std=\", np.sqrt(data.loc[data['os'] == 0][\"TTFB\"].std()))\n",
    "print(\"Go TTFB     mean =\", data.loc[data['os'] == 1][\"TTFB\"].mean(), \"std=\", np.sqrt(data.loc[data['os'] == 1][\"TTFB\"].std()))\n",
    "print(\"TTFB\", stats.ttest_ind(a=data.loc[data['os'] == 1][\"TTFB\"], b=data.loc[data['os'] == 0][\"TTFB\"], alternative='two-sided'))\n",
    "\n",
    "print(\"\\nMean difference in TTFB (i.e., GSI-Go) = \", round(diff,1), \"ms\")\n",
    "print(\"% Improvement in TTFB over non-Go: \", (data.loc[data['os'] == 0][\"TTFB\"].mean() - data.loc[data['os'] == 1][\"TTFB\"].mean()) * 100.0 / data.loc[data['os'] == 0][\"TTFB\"].mean(), \"%\")\n",
    "\n",
    "print(\"\\nMean difference in TTFB under No MP = \", round(diff_mp_no,1), \"ms\")\n",
    "print(\"Mean difference in TTFB under Low MP = \", round(diff_mp_low,1), \"ms\")\n",
    "print(\"Mean difference in TTFB under High MP = \", round(diff_mp_high,1), \"ms\")"
   ]
  },
  {
   "cell_type": "markdown",
   "metadata": {},
   "source": [
    "## `Figure 6a`"
   ]
  },
  {
   "cell_type": "code",
   "execution_count": 114,
   "metadata": {},
   "outputs": [
    {
     "name": "stdout",
     "output_type": "stream",
     "text": [
      "[Go]      : 0.9 +- 0.04 CI\n",
      "[Non-Go]  : 1.79 +- 0.3 CI\n"
     ]
    },
    {
     "data": {
      "image/png": "[encoded data removed]",
      "text/plain": [
       "<Figure size 432x252 with 1 Axes>"
      ]
     },
     "metadata": {
      "needs_background": "light"
     },
     "output_type": "display_data"
    }
   ],
   "source": [
    "plt.rcParams.update({'font.size': 14})\n",
    "\n",
    "list_ttfb = []\n",
    "\n",
    "temp1 = data.loc[(data['os'] == 1)][\"TTFB\"]\n",
    "temp1.reset_index(drop=True, inplace=True)\n",
    "t1_mean = temp1.mean()/1000\n",
    "list_ttfb.append(t1_mean)\n",
    "\n",
    "temp2 = data.loc[(data['os'] == 0)][\"TTFB\"]\n",
    "temp2.reset_index(drop=True, inplace=True)\n",
    "t2_mean = temp2.mean()/1000\n",
    "list_ttfb.append(t2_mean)\n",
    "\n",
    "list_s = []\n",
    "s1=(t1_mean)-stats.norm.interval(alpha=0.95, loc=np.mean(temp1/1000), scale=stats.sem(temp1/1000))[0]\n",
    "list_s.append(s1)\n",
    "s2=(t2_mean)-stats.norm.interval(alpha=0.95, loc=np.mean(temp2/1000), scale=stats.sem(temp2/1000))[0]\n",
    "list_s.append(s2)\n",
    "\n",
    "print(\"[Go]      :\", round(t1_mean,2), \"+-\", round(s1,2), \"CI\")\n",
    "print(\"[Non-Go]  :\", round(t2_mean,2), \"+-\", round(s2,2), \"CI\")\n",
    "\n",
    "#---------------------------------------------------------------------------\n",
    "\n",
    "# initialise data of lists.\n",
    "usable = {'os':['Android Go','Android Non-Go'],\n",
    "        'ttfb':list_ttfb,\n",
    "         'ci':list_s}\n",
    "\n",
    "usable = pd.DataFrame(usable)\n",
    " \n",
    "new_colors = ['red','blue']\n",
    "        \n",
    "plt.figure(figsize=(6,3.5))\n",
    "plt.bar(usable['os'],usable['ttfb'],yerr=usable['ci'],color=new_colors,alpha=0.5, align='center',capsize=5,width=0.5)\n",
    "\n",
    "plt.xlabel('Operating System')\n",
    "plt.ylabel('Time to First Byte (secs)')\n",
    "#plt.legend()\n",
    "plt.tight_layout()\n",
    "plt.savefig('figs/ttfb_go_vs_gsi.png', dpi=400)\n",
    "plt.show()"
   ]
  },
  {
   "cell_type": "code",
   "execution_count": 115,
   "metadata": {},
   "outputs": [],
   "source": [
    "ttfb_list = []\n",
    "\n",
    "temp1 = data.loc[(data['os'] == 1) & (data['mp_no'] == 1)][\"TTFB\"]\n",
    "temp1.reset_index(drop=True, inplace=True)\n",
    "t1_mean = temp1.mean()\n",
    "ttfb_list.append(t1_mean/1000)\n",
    "\n",
    "temp2 = data.loc[(data['os'] == 0) & (data['mp_no'] == 1)][\"TTFB\"]\n",
    "temp2.reset_index(drop=True, inplace=True)\n",
    "t2_mean = temp2.mean()\n",
    "ttfb_list.append(t2_mean/1000)\n",
    "\n",
    "temp3 = data.loc[(data['os'] == 1) & (data['mp_low'] == 1)][\"TTFB\"]\n",
    "temp3.reset_index(drop=True, inplace=True)\n",
    "t3_mean = temp3.mean()\n",
    "ttfb_list.append(t3_mean/1000)\n",
    "\n",
    "temp4 = data.loc[(data['os'] == 0) & (data['mp_low'] == 1)][\"TTFB\"]\n",
    "temp4.reset_index(drop=True, inplace=True)\n",
    "t4_mean = temp4.mean()\n",
    "ttfb_list.append(t4_mean/1000)\n",
    "\n",
    "temp5 = data.loc[(data['os'] == 1) & (data['mp_high'] == 1)][\"TTFB\"]\n",
    "temp5.reset_index(drop=True, inplace=True)\n",
    "t5_mean = temp5.mean()\n",
    "ttfb_list.append(t5_mean/1000)\n",
    "\n",
    "temp6 = data.loc[(data['os'] == 0) & (data['mp_high'] == 1)][\"TTFB\"]\n",
    "temp6.reset_index(drop=True, inplace=True)\n",
    "t6_mean = temp6.mean()\n",
    "ttfb_list.append(t6_mean/1000)\n",
    "\n",
    "# Finding 1-sided CI values\n",
    "s_list = []\n",
    "s1=(t1_mean)-stats.norm.interval(alpha=0.95, loc=np.mean(temp1), scale=stats.sem(temp1))[0]\n",
    "s_list.append(s1/1000)\n",
    "s2=(t2_mean)-stats.norm.interval(alpha=0.95, loc=np.mean(temp2), scale=stats.sem(temp2))[0]\n",
    "s_list.append(s2/1000)\n",
    "s3=(t3_mean)-stats.norm.interval(alpha=0.95, loc=np.mean(temp3), scale=stats.sem(temp3))[0]\n",
    "s_list.append(s3/1000)\n",
    "s4=(t4_mean)-stats.norm.interval(alpha=0.95, loc=np.mean(temp4), scale=stats.sem(temp4))[0]\n",
    "s_list.append(s4/1000)\n",
    "s5=(t5_mean)-stats.norm.interval(alpha=0.95, loc=np.mean(temp5), scale=stats.sem(temp5))[0]\n",
    "s_list.append(s5/1000)\n",
    "s6=(t6_mean)-stats.norm.interval(alpha=0.95, loc=np.mean(temp6), scale=stats.sem(temp6))[0]\n",
    "s_list.append(s6/1000)"
   ]
  },
  {
   "cell_type": "markdown",
   "metadata": {},
   "source": [
    "## `Figure 8b`"
   ]
  },
  {
   "cell_type": "code",
   "execution_count": 116,
   "metadata": {},
   "outputs": [
    {
     "data": {
      "image/png": "[encoded data removed]",
      "text/plain": [
       "<Figure size 432x252 with 1 Axes>"
      ]
     },
     "metadata": {
      "needs_background": "light"
     },
     "output_type": "display_data"
    }
   ],
   "source": [
    "plt.rcParams.update({'font.size': 14})\n",
    "\n",
    "usable = {'os':['(Go, No-MP)', '(Non-Go, No-MP)', '(Go, Low-MP)', '(Non-Go, Low-MP)', '(Go, High-MP)', '(Non-Go, High-MP)'],\n",
    "        'ttfb': ttfb_list,\n",
    "         'ci': s_list}\n",
    "\n",
    "usable1 = {'os':['(Go, No-MP)', '(Go, Low-MP)', '(Go, High-MP)'],\n",
    "        'ttfb': [t1_mean/1000, t3_mean/1000, t5_mean/1000],\n",
    "         'ci': [s1/1000, s3/1000, s5/1000]}\n",
    "\n",
    "usable2 = {'os':['(Non-Go, No-MP)', '(Non-Go, Low-MP)', '(Non-Go, High-MP)'],\n",
    "        'ttfb': [t2_mean/1000, t4_mean/1000, t6_mean/1000],\n",
    "         'ci': [s2/1000, s4/1000, s6/1000]}\n",
    "\n",
    "usable = pd.DataFrame(usable)\n",
    " \n",
    "new_colors2 = ['blue','blue','blue']\n",
    "new_colors1 = ['red','red','red']\n",
    "\n",
    "barWidth = 0.3\n",
    "r1 = np.arange(len(usable1))\n",
    "r2 = [x + barWidth for x in r1]\n",
    "    \n",
    "plt.figure(figsize=(6,3.5))\n",
    "plt.bar(r1, usable1['ttfb'], width = barWidth, yerr=usable1['ci'],color=new_colors1,alpha=0.5, align='center',capsize=5,label='Go')\n",
    "plt.bar(r2, usable2['ttfb'], width = barWidth, yerr=usable2['ci'],color=new_colors2,alpha=0.5, align='center',capsize=5,label='Non-Go')\n",
    "\n",
    "plt.xticks([r + barWidth for r in range(len(usable1))], ['No MP', 'Low MP', 'High MP'])\n",
    "plt.ylabel('height')\n",
    "plt.legend()\n",
    "\n",
    "plt.xlabel('Memory Pressure State')\n",
    "plt.ylabel('Time to First Byte (secs)')\n",
    "plt.tight_layout()\n",
    "plt.savefig('figs/ttfb_mp.png', dpi=400)\n",
    "plt.show()"
   ]
  },
  {
   "cell_type": "markdown",
   "metadata": {},
   "source": [
    "### (iii) OLS Regression Analysis"
   ]
  },
  {
   "cell_type": "code",
   "execution_count": 126,
   "metadata": {},
   "outputs": [
    {
     "name": "stdout",
     "output_type": "stream",
     "text": [
      "                            OLS Regression Results                            \n",
      "==============================================================================\n",
      "Dep. Variable:                   TTFB   R-squared:                       0.053\n",
      "Model:                            OLS   Adj. R-squared:                  0.051\n",
      "Method:                 Least Squares   F-statistic:                     32.57\n",
      "Date:                Sat, 17 Sep 2022   Prob (F-statistic):           1.83e-08\n",
      "Time:                        23:37:30   Log-Likelihood:                -5264.7\n",
      "No. Observations:                 588   AIC:                         1.053e+04\n",
      "Df Residuals:                     586   BIC:                         1.054e+04\n",
      "Df Model:                           1                                         \n",
      "Covariance Type:            nonrobust                                         \n",
      "==============================================================================\n",
      "                 coef    std err          t      P>|t|      [0.025      0.975]\n",
      "------------------------------------------------------------------------------\n",
      "Intercept   1785.5575    109.354     16.328      0.000    1570.784    2000.331\n",
      "os          -882.5792    154.650     -5.707      0.000   -1186.315    -578.843\n",
      "==============================================================================\n",
      "Omnibus:                     1052.699   Durbin-Watson:                   1.222\n",
      "Prob(Omnibus):                  0.000   Jarque-Bera (JB):           828642.214\n",
      "Skew:                          11.427   Prob(JB):                         0.00\n",
      "Kurtosis:                     185.482   Cond. No.                         2.62\n",
      "==============================================================================\n",
      "\n",
      "Notes:\n",
      "[1] Standard Errors assume that the covariance matrix of the errors is correctly specified.\n"
     ]
    }
   ],
   "source": [
    "# specification-1: We regress os on TTFB to find the causal effect of os.\n",
    "formula = 'TTFB ~ os'\n",
    "model = smf.ols(formula, data=data)\n",
    "## for analyzing the TTFB of crashed pages only, uncomment the line below\n",
    "## model = smf.ols(formula, data=data.loc[data['PLT'] == 0])\n",
    "results = model.fit()\n",
    "print(results.summary())\n",
    "## print(results.pvalues)"
   ]
  },
  {
   "cell_type": "code",
   "execution_count": 19,
   "metadata": {},
   "outputs": [
    {
     "name": "stdout",
     "output_type": "stream",
     "text": [
      "                            OLS Regression Results                            \n",
      "==============================================================================\n",
      "Dep. Variable:                   TTFB   R-squared:                       0.157\n",
      "Model:                            OLS   Adj. R-squared:                  0.149\n",
      "Method:                 Least Squares   F-statistic:                     21.60\n",
      "Date:                Mon, 12 Sep 2022   Prob (F-statistic):           7.40e-20\n",
      "Time:                        12:16:33   Log-Likelihood:                -5230.6\n",
      "No. Observations:                 588   AIC:                         1.047e+04\n",
      "Df Residuals:                     582   BIC:                         1.050e+04\n",
      "Df Model:                           5                                         \n",
      "Covariance Type:            nonrobust                                         \n",
      "==============================================================================\n",
      "                 coef    std err          t      P>|t|      [0.025      0.975]\n",
      "------------------------------------------------------------------------------\n",
      "Intercept    809.6367    179.337      4.515      0.000     457.409    1161.864\n",
      "os           -29.6786    253.622     -0.117      0.907    -527.804     468.446\n",
      "mp_low       811.7633    253.622      3.201      0.001     313.638    1309.888\n",
      "mp_high     2115.9990    253.622      8.343      0.000    1617.874    2614.124\n",
      "os:mp_low   -663.6439    358.675     -1.850      0.065   -1368.099      40.811\n",
      "os:mp_high -1895.0580    358.675     -5.283      0.000   -2599.513   -1190.603\n",
      "==============================================================================\n",
      "Omnibus:                     1073.809   Durbin-Watson:                   1.339\n",
      "Prob(Omnibus):                  0.000   Jarque-Bera (JB):           979040.548\n",
      "Skew:                          11.862   Prob(JB):                         0.00\n",
      "Kurtosis:                     201.489   Cond. No.                         9.77\n",
      "==============================================================================\n",
      "\n",
      "Notes:\n",
      "[1] Standard Errors assume that the covariance matrix of the errors is correctly specified.\n",
      "\n",
      "\n",
      "TTFB in the Control (GSI)         =  809.6 ms\n",
      "Causal Impact of Go under No MP   =  -29.7 ms\n",
      "Causal Impact of Go under Low MP  =  -693.3 ms\n",
      "Causal Impact of Go under High MP =  -1924.7 ms\n"
     ]
    }
   ],
   "source": [
    "## specification-2: with interaction effects\n",
    "formula = 'TTFB ~ os + mp_low + mp_high + os:mp_low + os:mp_high'\n",
    "model = smf.ols(formula, data=data)\n",
    "results = model.fit()\n",
    "print(results.summary())\n",
    "#print(results.params)\n",
    "\n",
    "print(\"\\n\")\n",
    "print(\"TTFB in the Control (GSI)         = \", round(results.params[0],1), \"ms\")\n",
    "print(\"Causal Impact of Go under No MP   = \", round(results.params[1],1), \"ms\")\n",
    "print(\"Causal Impact of Go under Low MP  = \", round(results.params[1] + results.params[4], 1), \"ms\")\n",
    "print(\"Causal Impact of Go under High MP = \", round(results.params[1] + results.params[5], 1), \"ms\")"
   ]
  },
  {
   "cell_type": "markdown",
   "metadata": {},
   "source": [
    "---"
   ]
  },
  {
   "cell_type": "markdown",
   "metadata": {},
   "source": [
    "## <font color=blue>B. Page Load Time (PLT) Analysis</font>\n",
    "`- Mean with CI plots + OLS Regression Analysis`"
   ]
  },
  {
   "cell_type": "markdown",
   "metadata": {},
   "source": [
    "### Data Cleaning\n",
    "1. Clean data by excluding the two Web pages that did not load correctly possibly due to blocking (alipay.com and jd.com)\n",
    "2. Introduce a new column 'crash' representing a binary feature (1 if the page crashed, 0 otherwise)\n"
   ]
  },
  {
   "cell_type": "code",
   "execution_count": 127,
   "metadata": {},
   "outputs": [],
   "source": [
    "df_plt = pd.read_csv(\"imc22_dataset.csv\")\n",
    "df_orig = pd.read_csv(\"imc22_dataset.csv\")\n",
    "\n",
    "# Step-1\n",
    "drop_index = df_plt.loc[df_plt[\"URL\"] == \"https://www.alipay.com\"].index\n",
    "df_plt.drop(drop_index, axis=0, inplace=True)\n",
    "drop_index = df_plt.loc[df_plt[\"URL\"] == \"https://www.jd.com\"].index\n",
    "df_plt.drop(drop_index, axis=0, inplace=True)\n",
    "\n",
    "drop_index = df_orig.loc[df_orig[\"URL\"] == \"https://www.alipay.com\"].index\n",
    "df_orig.drop(drop_index, axis=0, inplace=True)\n",
    "drop_index = df_orig.loc[df_orig[\"URL\"] == \"https://www.jd.com\"].index\n",
    "df_orig.drop(drop_index, axis=0, inplace=True)\n",
    "\n",
    "# Step-2\n",
    "## if PLT == E or 0, set crash=1 otherwise 0\n",
    "df_plt['crash'] = np.where((df_plt['PLT']=='E') | (df_plt['PLT']=='0'), 1, 0)\n",
    "df_orig['crash'] = np.where((df_orig['PLT']=='E') | (df_orig['PLT']=='0'), 1, 0)\n",
    "\n",
    "## if PLT == E, change to 0\n",
    "df_plt['PLT'] = df_plt['PLT'].replace('E',0)\n",
    "df_orig['PLT'] = df_orig['PLT'].replace('E',0)\n",
    "\n",
    "# Step-3\n",
    "## convert to float\n",
    "df_plt['PLT'] = df_plt['PLT'].astype(float)\n",
    "df_orig['PLT'] = df_orig['PLT'].astype(float)\n",
    "\n",
    "go_succ_pages = df_plt.loc[ (df_plt['os']==1) & (df_plt['crash']==0)]\n",
    "nongo_succ_pages = df_plt.loc[ (df_plt['os']==0) & (df_plt['crash']==0)]"
   ]
  },
  {
   "cell_type": "markdown",
   "metadata": {},
   "source": [
    "### Balance Checks"
   ]
  },
  {
   "cell_type": "code",
   "execution_count": 131,
   "metadata": {},
   "outputs": [
    {
     "name": "stdout",
     "output_type": "stream",
     "text": [
      "Pages loaded successfully in Go     : 291\n",
      "Pages loaded successfully in non-Go : 258\n"
     ]
    }
   ],
   "source": [
    "print(\"Pages loaded successfully in Go     :\", len(go_succ_pages))\n",
    "print(\"Pages loaded successfully in non-Go :\", len(nongo_succ_pages))"
   ]
  },
  {
   "cell_type": "code",
   "execution_count": 132,
   "metadata": {},
   "outputs": [
    {
     "name": "stdout",
     "output_type": "stream",
     "text": [
      "Non-Go -- (pagesize kb) mean= 1278.2730232558142 , sem= 66.1515819551011\n",
      "Go     -- (pagesize kb) mean= 1335.3094501718217 , sem= 65.14924246511116\n",
      "(pagesize kb)      mean diff= 57.036426916007485\n",
      "\n",
      "Non-Go -- (dom nodes) mean= 1112.0658914728683 , sem= 80.52048956373665\n",
      "Go     -- (dom nodes) mean= 1175.4948453608247 , sem= 75.71979944970312\n",
      "(dom_elements)   mean diff= 63.42895388795637\n",
      "\n",
      "Non-Go -- (scripts kb) mean= 643.3075182170543 , sem= 37.71398414749533\n",
      "Go     -- (scripts kb) mean= 679.9924835051545 , sem= 36.24416081003396\n",
      "(scripts_kb)   mean diff= 36.684965288100216\n",
      "\n",
      "Non-Go -- (image kb) mean= 628.8669944772442 , sem= 52.34697369637841\n",
      "Go     -- (image kb) mean= 650.627956549962 , sem= 50.884716829289985\n",
      "(images_kb)   mean diff= 21.760962072717803\n",
      "\n",
      "Non-Go -- (css kb) mean= 54.81695130862021 , sem= 4.060176284385664\n",
      "Go     -- (css kb) mean= 58.15201151856707 , sem= 4.087987901132057\n",
      "(css_kb)   mean diff= 3.3350602099468603\n",
      "\n",
      "Non-Go -- (iframe kb) mean= 71.67546330234103 , sem= 7.512251002717109\n",
      "Go     -- (iframe kb) mean= 83.89876302468032 , sem= 8.122279999208217\n",
      "(iframes_kb)   mean diff= 12.223299722339291\n",
      "\n",
      "Non-Go -- (fonts kb) mean= 128.19883644844572 , sem= 22.89449933552657\n",
      "Go     -- (fonts kb) mean= 126.39048069422334 , sem= 20.40436159833691\n",
      "(fonts_kb)   mean diff= -1.8083557542223758\n",
      "\n",
      "--------------------\n",
      "\n",
      "Non-Go -- (objects) mean= 83.31782945736434 , sem= 4.1498198400921815\n",
      "Go     -- (objects) mean= 86.4914089347079 , sem= 4.030645623439332\n",
      "(objects)   mean diff= 3.1735794773435657\n",
      "\n",
      "Non-Go -- (scripts) mean= 31.406976744186046 , sem= 1.8688980579913135\n",
      "Go     -- (scripts) mean= 32.144329896907216 , sem= 1.7261088635414685\n",
      "(num_scripts)  mean diff= 0.7373531527211696\n",
      "\n",
      "Non-Go -- (images) mean= 45.0 , sem= 2.778808162086234\n",
      "Go     -- (images) mean= 46.62199312714777 , sem= 2.701560466067486\n",
      "(num_images)  mean diff= 1.6219931271477677\n",
      "\n",
      "Non-Go -- (css) mean= 5.0 , sem= 0.42228513687581987\n",
      "Go     -- (css) mean= 4.982817869415808 , sem= 0.38299736055060724\n",
      "(num_css)  mean diff= -0.01718213058419238\n",
      "\n",
      "Non-Go -- (iframe) mean= 12.709302325581396 , sem= 1.1310609941810463\n",
      "Go     -- (iframe) mean= 13.694158075601374 , sem= 1.1743485186621145\n",
      "(num_iframes)  mean diff= 0.9848557500199782\n",
      "\n",
      "Non-Go -- (fonts kb) mean= 3.7364341085271318 , sem= 0.5728143432398063\n",
      "Go     -- (fonts kb) mean= 3.7697594501718212 , sem= 0.5126619742442553\n",
      "(requests_font)  mean diff= 0.03332534164468948\n",
      "\n",
      "--------------------\n",
      "\n",
      "\n",
      "Non-Go -- TTFB mean= 1492.885658914728 , sem= 149.32948152147497\n",
      "Go     -- TTFB mean= 903.3191430749139 , sem= 22.409982986343827\n",
      "(TTFB)  mean diff= -589.5665158398142\n",
      "\n",
      "Non-Go -- PLT mean= 23256.343410852704 , sem= 1420.0405010235827\n",
      "Go     -- PLT mean= 15637.774953642616 , sem= 811.0786971555802\n",
      "(PLT)  mean diff= -7618.568457210087\n",
      "% Reduction in PLT over non-Go= 32.75909855052639\n"
     ]
    }
   ],
   "source": [
    "from scipy.stats import sem\n",
    "\n",
    "print(\"Non-Go -- (pagesize kb) mean=\", nongo_succ_pages['pagesize_kb'].mean(), \", sem=\", sem(nongo_succ_pages['pagesize_kb'] ))\n",
    "print(\"Go     -- (pagesize kb) mean=\", go_succ_pages['pagesize_kb'].mean(), \", sem=\", sem(go_succ_pages['pagesize_kb'] ))\n",
    "print(\"(pagesize kb)      mean diff=\", go_succ_pages['pagesize_kb'].mean()-nongo_succ_pages['pagesize_kb'].mean())\n",
    "\n",
    "print(\"\\nNon-Go -- (dom nodes) mean=\", nongo_succ_pages['dom_elements'].mean(), \", sem=\", sem(nongo_succ_pages['dom_elements'] ))\n",
    "print(\"Go     -- (dom nodes) mean=\", go_succ_pages['dom_elements'].mean(), \", sem=\", sem(go_succ_pages['dom_elements'] ))\n",
    "print(\"(dom_elements)   mean diff=\", go_succ_pages['dom_elements'].mean()-nongo_succ_pages['dom_elements'].mean())\n",
    "\n",
    "print(\"\\nNon-Go -- (scripts kb) mean=\", nongo_succ_pages['scripts_kb'].mean(), \", sem=\", sem(nongo_succ_pages['scripts_kb'] ))\n",
    "print(\"Go     -- (scripts kb) mean=\", go_succ_pages['scripts_kb'].mean(), \", sem=\", sem(go_succ_pages['scripts_kb'] ))\n",
    "print(\"(scripts_kb)   mean diff=\", go_succ_pages['scripts_kb'].mean()-nongo_succ_pages['scripts_kb'].mean())\n",
    "\n",
    "print(\"\\nNon-Go -- (image kb) mean=\", nongo_succ_pages['images_kb'].mean(), \", sem=\", sem(nongo_succ_pages['images_kb'] ))\n",
    "print(\"Go     -- (image kb) mean=\", go_succ_pages['images_kb'].mean(), \", sem=\", sem(go_succ_pages['images_kb'] ))\n",
    "print(\"(images_kb)   mean diff=\", go_succ_pages['images_kb'].mean()-nongo_succ_pages['images_kb'].mean())\n",
    "\n",
    "print(\"\\nNon-Go -- (css kb) mean=\", nongo_succ_pages['css_kb'].mean(), \", sem=\", sem(nongo_succ_pages['css_kb'] ))\n",
    "print(\"Go     -- (css kb) mean=\", go_succ_pages['css_kb'].mean(), \", sem=\", sem(go_succ_pages['css_kb'] ))\n",
    "print(\"(css_kb)   mean diff=\", go_succ_pages['css_kb'].mean()-nongo_succ_pages['css_kb'].mean())\n",
    "\n",
    "print(\"\\nNon-Go -- (iframe kb) mean=\", nongo_succ_pages['iframes_kb'].mean(), \", sem=\", sem(nongo_succ_pages['iframes_kb'] ))\n",
    "print(\"Go     -- (iframe kb) mean=\", go_succ_pages['iframes_kb'].mean(), \", sem=\", sem(go_succ_pages['iframes_kb'] ))\n",
    "print(\"(iframes_kb)   mean diff=\", go_succ_pages['iframes_kb'].mean()-nongo_succ_pages['iframes_kb'].mean())\n",
    "\n",
    "print(\"\\nNon-Go -- (fonts kb) mean=\", nongo_succ_pages['fonts_kb'].mean(), \", sem=\", sem(nongo_succ_pages['fonts_kb'] ))\n",
    "print(\"Go     -- (fonts kb) mean=\", go_succ_pages['fonts_kb'].mean(), \", sem=\", sem(go_succ_pages['fonts_kb'] ))\n",
    "print(\"(fonts_kb)   mean diff=\", go_succ_pages['fonts_kb'].mean()-nongo_succ_pages['fonts_kb'].mean())\n",
    "\n",
    "################\n",
    "\n",
    "print(\"\\n--------------------\\n\")\n",
    "print(\"Non-Go -- (objects) mean=\", nongo_succ_pages['num_requests'].mean(), \", sem=\", sem(nongo_succ_pages['num_requests'] ))\n",
    "print(\"Go     -- (objects) mean=\", go_succ_pages['num_requests'].mean(), \", sem=\", sem(go_succ_pages['num_requests'] ))\n",
    "print(\"(objects)   mean diff=\", go_succ_pages['num_requests'].mean()-nongo_succ_pages['num_requests'].mean())\n",
    "\n",
    "print(\"\\nNon-Go -- (scripts) mean=\", nongo_succ_pages['num_scripts'].mean(), \", sem=\", sem(nongo_succ_pages['num_scripts'] ))\n",
    "print(\"Go     -- (scripts) mean=\", go_succ_pages['num_scripts'].mean(), \", sem=\", sem(go_succ_pages['num_scripts'] ))\n",
    "print(\"(num_scripts)  mean diff=\", go_succ_pages['num_scripts'].mean()-nongo_succ_pages['num_scripts'].mean())\n",
    "\n",
    "print(\"\\nNon-Go -- (images) mean=\", nongo_succ_pages['num_images'].mean(), \", sem=\", sem(nongo_succ_pages['num_images'] ))\n",
    "print(\"Go     -- (images) mean=\", go_succ_pages['num_images'].mean(), \", sem=\", sem(go_succ_pages['num_images'] ))\n",
    "print(\"(num_images)  mean diff=\", go_succ_pages['num_images'].mean()-nongo_succ_pages['num_images'].mean())\n",
    "\n",
    "print(\"\\nNon-Go -- (css) mean=\", nongo_succ_pages['num_css'].mean(), \", sem=\", sem(nongo_succ_pages['num_css'] ))\n",
    "print(\"Go     -- (css) mean=\", go_succ_pages['num_css'].mean(), \", sem=\", sem(go_succ_pages['num_css'] ))\n",
    "print(\"(num_css)  mean diff=\", go_succ_pages['num_css'].mean()-nongo_succ_pages['num_css'].mean())\n",
    "\n",
    "print(\"\\nNon-Go -- (iframe) mean=\", nongo_succ_pages['num_iframes'].mean(), \", sem=\", sem(nongo_succ_pages['num_iframes'] ))\n",
    "print(\"Go     -- (iframe) mean=\", go_succ_pages['num_iframes'].mean(), \", sem=\", sem(go_succ_pages['num_iframes'] ))\n",
    "print(\"(num_iframes)  mean diff=\", go_succ_pages['num_iframes'].mean()-nongo_succ_pages['num_iframes'].mean())\n",
    "\n",
    "print(\"\\nNon-Go -- (fonts kb) mean=\", nongo_succ_pages['requests_font'].mean(), \", sem=\", sem(nongo_succ_pages['requests_font'] ))\n",
    "print(\"Go     -- (fonts kb) mean=\", go_succ_pages['requests_font'].mean(), \", sem=\", sem(go_succ_pages['requests_font'] ))\n",
    "print(\"(requests_font)  mean diff=\", go_succ_pages['requests_font'].mean()-nongo_succ_pages['requests_font'].mean())\n",
    "\n",
    "print(\"\\n--------------------\\n\")\n",
    "\n",
    "print(\"\\nNon-Go -- TTFB mean=\", nongo_succ_pages['TTFB'].mean(), \", sem=\", sem(nongo_succ_pages['TTFB'] ))\n",
    "print(\"Go     -- TTFB mean=\", go_succ_pages['TTFB'].mean(), \", sem=\", sem(go_succ_pages['TTFB'] ))\n",
    "print(\"(TTFB)  mean diff=\", go_succ_pages['TTFB'].mean()-nongo_succ_pages['TTFB'].mean())\n",
    "\n",
    "print(\"\\nNon-Go -- PLT mean=\", nongo_succ_pages['PLT'].mean(), \", sem=\", sem(nongo_succ_pages['PLT'] ))\n",
    "print(\"Go     -- PLT mean=\", go_succ_pages['PLT'].mean(), \", sem=\", sem(go_succ_pages['PLT'] ))\n",
    "print(\"(PLT)  mean diff=\", go_succ_pages['PLT'].mean()-nongo_succ_pages['PLT'].mean())\n",
    "\n",
    "print(\"% Reduction in PLT over non-Go=\", (nongo_succ_pages['PLT'].mean() - go_succ_pages['PLT'].mean()) * 100.0 / nongo_succ_pages['PLT'].mean()) \n",
    "\n",
    "\n"
   ]
  },
  {
   "cell_type": "code",
   "execution_count": 134,
   "metadata": {},
   "outputs": [
    {
     "name": "stdout",
     "output_type": "stream",
     "text": [
      "num_requests Ttest_indResult(statistic=0.5475561580130383, pvalue=0.5842200422102524)\n",
      "num_scripts Ttest_indResult(statistic=0.29017041726976034, pvalue=0.7717958343639029)\n",
      "num_images Ttest_indResult(statistic=0.41770990505724326, pvalue=0.676323141433989)\n",
      "num_css Ttest_indResult(statistic=-0.03020696025488583, pvalue=0.9759130154689051)\n",
      "num_iframes Ttest_indResult(statistic=0.6005026723096659, pvalue=0.5484199940681846)\n",
      "requests_font Ttest_indResult(statistic=0.043484042741048584, pvalue=0.965331552932267)\n",
      "\n",
      "PLT mean diff Ttest_indResult(statistic=-4.6586828049338616, pvalue=4.298502257793522e-06)\n",
      "TTFB mean diff Ttest_indResult(statistic=-3.9043710842941435, pvalue=0.00011955065096033898)\n"
     ]
    }
   ],
   "source": [
    "import scipy.stats as stats\n",
    "\n",
    "#stats.ttest_ind(a=go_succ_pages['pagesize_kb'], b=nongo_succ_pages['pagesize_kb'], alternative='two-sided')\n",
    "#stats.ttest_ind(a=go_succ_pages['dom_elements'], b=nongo_succ_pages['dom_elements'], alternative='two-sided')\n",
    "\n",
    "#stats.ttest_ind(a=go_succ_pages['scripts_kb'], b=nongo_succ_pages['scripts_kb'], alternative='two-sided')\n",
    "#stats.ttest_ind(a=go_succ_pages['images_kb'], b=nongo_succ_pages['images_kb'], alternative='two-sided')\n",
    "#stats.ttest_ind(a=go_succ_pages['css_kb'], b=nongo_succ_pages['css_kb'], alternative='two-sided')\n",
    "#stats.ttest_ind(a=go_succ_pages['iframes_kb'], b=nongo_succ_pages['iframes_kb'], alternative='two-sided')\n",
    "#stats.ttest_ind(a=go_succ_pages['fonts_kb'], b=nongo_succ_pages['fonts_kb'], alternative='two-sided')\n",
    "\n",
    "print(\"num_requests\", stats.ttest_ind(a=go_succ_pages['num_requests'], b=nongo_succ_pages['num_requests'], alternative='two-sided', equal_var=True))\n",
    "print(\"num_scripts\", stats.ttest_ind(a=go_succ_pages['num_scripts'], b=nongo_succ_pages['num_scripts'], alternative='two-sided', equal_var=True))\n",
    "print(\"num_images\", stats.ttest_ind(a=go_succ_pages['num_images'], b=nongo_succ_pages['num_images'], alternative='two-sided', equal_var=True))\n",
    "print(\"num_css\", stats.ttest_ind(a=go_succ_pages['num_css'], b=nongo_succ_pages['num_css'], alternative='two-sided', equal_var=True))\n",
    "print(\"num_iframes\", stats.ttest_ind(a=go_succ_pages['num_iframes'], b=nongo_succ_pages['num_iframes'], alternative='two-sided', equal_var=True))\n",
    "print(\"requests_font\", stats.ttest_ind(a=go_succ_pages['requests_font'], b=nongo_succ_pages['requests_font'], alternative='two-sided', equal_var=True))\n",
    "\n",
    "print(\"\\nPLT mean diff\", stats.ttest_ind(a=go_succ_pages['PLT'], b=nongo_succ_pages['PLT'], alternative='two-sided', equal_var=False))\n",
    "print(\"TTFB mean diff\", stats.ttest_ind(a=go_succ_pages['TTFB'], b=nongo_succ_pages['TTFB'], alternative='two-sided', equal_var=False))"
   ]
  },
  {
   "cell_type": "markdown",
   "metadata": {},
   "source": [
    "## `Figure 5`"
   ]
  },
  {
   "cell_type": "code",
   "execution_count": 139,
   "metadata": {},
   "outputs": [
    {
     "name": "stdout",
     "output_type": "stream",
     "text": [
      "[Non-Go (succ)]      : 1.49 +- 0.29 CI\n",
      "[Non-Go (all)]  : 1.79 +- 0.3 CI\n"
     ]
    },
    {
     "data": {
      "image/png": "[encoded data removed]",
      "text/plain": [
       "<Figure size 432x252 with 1 Axes>"
      ]
     },
     "metadata": {
      "needs_background": "light"
     },
     "output_type": "display_data"
    }
   ],
   "source": [
    "plt.rcParams.update({'font.size': 14})\n",
    "\n",
    "list_ttfb = []\n",
    "temp1 = nongo_succ_pages[\"TTFB\"]\n",
    "temp1.reset_index(drop=True, inplace=True)\n",
    "t1_mean = temp1.mean()/1000\n",
    "list_ttfb.append(t1_mean)\n",
    "\n",
    "temp2 = df_plt.loc[(df_plt['os'] == 0)][\"TTFB\"]\n",
    "temp2.reset_index(drop=True, inplace=True)\n",
    "t2_mean = temp2.mean()/1000\n",
    "list_ttfb.append(t2_mean)\n",
    "\n",
    "list_s = []\n",
    "s1=(t1_mean)-stats.norm.interval(alpha=0.95, loc=np.mean(temp1/1000), scale=stats.sem(temp1/1000))[0]\n",
    "list_s.append(s1)\n",
    "s2=(t2_mean)-stats.norm.interval(alpha=0.95, loc=np.mean(temp2/1000), scale=stats.sem(temp2/1000))[0]\n",
    "list_s.append(s2)\n",
    "\n",
    "print(\"[Non-Go (succ)]      :\", round(t1_mean,2), \"+-\", round(s1,2), \"CI\")\n",
    "print(\"[Non-Go (all)]  :\", round(t2_mean,2), \"+-\", round(s2,2), \"CI\")\n",
    "\n",
    "## ---------------------------------------------------------------------------\n",
    "usable = {'os':['Non-Go (Succ Pages)','Non-Go (All Pages)'],\n",
    "        'ttfb':list_ttfb,\n",
    "         'ci':list_s}\n",
    "\n",
    "usable = pd.DataFrame(usable)\n",
    " \n",
    "new_colors = ['red','blue']\n",
    "        \n",
    "plt.figure(figsize=(6,3.5))\n",
    "plt.bar(usable['os'],usable['ttfb'],yerr=usable['ci'],color=new_colors,alpha=0.5, align='center',capsize=5,width=0.5)\n",
    "\n",
    "plt.xlabel('Category of Web pages')\n",
    "plt.ylabel('Time to First Byte (secs)')\n",
    "plt.tight_layout()\n",
    "plt.savefig('figs/ttfb_nongo_succ_vs_all.png', dpi=400)\n",
    "plt.show()"
   ]
  },
  {
   "cell_type": "markdown",
   "metadata": {},
   "source": [
    "### Crash Rate Analysis"
   ]
  },
  {
   "cell_type": "code",
   "execution_count": 140,
   "metadata": {},
   "outputs": [
    {
     "name": "stdout",
     "output_type": "stream",
     "text": [
      "Total successful page loads in GSI: 258\n",
      "Total successful page loads in Go: 291\n",
      "Total successful page loads: 549 \n",
      "\n",
      "Total pages crashed in GSI: 36\n",
      "Total pages crashed in Go: 3\n",
      "Total pages crashed: 39 \n",
      "\n",
      "Total pages crashed in GSI: 12.244897959183673\n",
      "Total pages crashed in Go: 1.0204081632653061\n",
      "Total crash rate 6.63 %\n"
     ]
    }
   ],
   "source": [
    "df_crash = df_orig.loc[df_orig['PLT'] == 0]\n",
    "df_succ = df_orig.loc[df_orig['PLT'] != 0]\n",
    "\n",
    "print(\"Total successful page loads in GSI:\",len(df_succ.loc[(df_plt['os'] == 0)]))\n",
    "print(\"Total successful page loads in Go:\",len(df_succ.loc[(df_plt['os'] == 1)]))\n",
    "print(\"Total successful page loads:\", len(df_succ), \"\\n\")\n",
    "     \n",
    "print(\"Total pages crashed in GSI:\", len(df_crash.loc[(df_crash['os'] == 0)]))\n",
    "print(\"Total pages crashed in Go:\", len(df_crash.loc[(df_crash['os'] == 1)]))\n",
    "print(\"Total pages crashed:\", len(df_crash), \"\\n\")\n",
    "\n",
    "print(\"Total pages crashed in GSI:\", 100 * len(df_crash.loc[(df_crash['os'] == 0)])/(len(df_orig) * 0.5))\n",
    "print(\"Total pages crashed in Go:\", 100 * len(df_crash.loc[(df_crash['os'] == 1)])/(len(df_orig) * 0.5))\n",
    "print(\"Total crash rate\", round(100 * len(df_crash)/len(df_orig), 2), \"%\")"
   ]
  },
  {
   "cell_type": "markdown",
   "metadata": {},
   "source": [
    "## `Figure 4a`"
   ]
  },
  {
   "cell_type": "code",
   "execution_count": 142,
   "metadata": {},
   "outputs": [
    {
     "data": {
      "image/png": "[encoded data removed]",
      "text/plain": [
       "<Figure size 432x252 with 1 Axes>"
      ]
     },
     "metadata": {
      "needs_background": "light"
     },
     "output_type": "display_data"
    }
   ],
   "source": [
    "plt.rcParams.update({'font.size': 14})\n",
    "\n",
    "usable = {'os':['Android Go','Android Non-Go'],\n",
    "        'plt':[1.02, 12.24],\n",
    "         'ci':[1.1, 3.7]}\n",
    "\n",
    "usable = pd.DataFrame(usable)\n",
    "new_colors = ['red','blue']\n",
    "\n",
    "plt.figure(figsize=(6,3.5))\n",
    "plt.bar(usable['os'],usable['plt'],yerr=usable['ci'],color=new_colors,alpha=0.5, align='center',capsize=5,width=0.5)\n",
    "plt.xlabel('Operating System')\n",
    "plt.ylabel('Crash Rate (%)')\n",
    "plt.tight_layout()\n",
    "plt.savefig('figs/plt_go_vs_gsi_crashrate.png', dpi=400)\n",
    "plt.show()"
   ]
  },
  {
   "cell_type": "code",
   "execution_count": 145,
   "metadata": {},
   "outputs": [],
   "source": [
    "# print(\"Total pages crashed in GSI -- No-MP:\", 100 * len(df_crash.loc[ (df_crash['os']==0) & (df_crash['mp_no']==1) ]) / (len(df_orig)/6) )\n",
    "# print(\"Total pages crashed in GSI -- Low-MP:\", 100 * len(df_crash.loc[ (df_crash['os']==0) & (df_crash['mp_low']==1) ]) / (len(df_orig)/6) )\n",
    "# print(\"Total pages crashed in GSI -- High-MP:\", 100 * len(df_crash.loc[ (df_crash['os']==0) & (df_crash['mp_high']==1) ]) / (len(df_orig)/6) )\n",
    "# print(\"Total pages crashed in GSI -- High-MP:\", len(df_crash.loc[ (df_crash['os']==0) & (df_crash['mp_high']==1) ]) )\n",
    "\n",
    "# print(\"Total pages crashed in Go -- No-MP:\", 100 * len(df_crash.loc[ (df_crash['os']==1) & (df_crash['mp_no']==1) ]) / (len(df_orig)/6) )\n",
    "# print(\"Total pages crashed in Go -- Low-MP:\", 100 * len(df_crash.loc[ (df_crash['os']==1) & (df_crash['mp_low']==1) ]) / (len(df_orig)/6) )\n",
    "# print(\"Total pages crashed in Go -- High-MP:\", 100 * len(df_crash.loc[ (df_crash['os']==1) & (df_crash['mp_high']==1) ]) / (len(df_orig)/6) )\n",
    "# print(\"Total pages crashed in Go -- High-MP:\", len(df_crash.loc[ (df_crash['os']==1) & (df_crash['mp_high']==1) ]) )\n",
    "\n",
    "# print(\"% Reduction:\", (4.08-0.34) * 100/ 4.08)\n",
    "# print(len(df_orig))"
   ]
  },
  {
   "cell_type": "markdown",
   "metadata": {},
   "source": [
    "## `Figure 8a`"
   ]
  },
  {
   "cell_type": "code",
   "execution_count": 149,
   "metadata": {},
   "outputs": [
    {
     "data": {
      "image/png": "[encoded data removed]",
      "text/plain": [
       "<Figure size 432x252 with 1 Axes>"
      ]
     },
     "metadata": {
      "needs_background": "light"
     },
     "output_type": "display_data"
    }
   ],
   "source": [
    "plt.rcParams.update({'font.size': 14})\n",
    "\n",
    "usable1 = {'os':['(Go, No-MP)', '(Go, Low-MP)', '(Go, High-MP)'],\n",
    "        'plt': [0, 1.020, 2.041],\n",
    "         'ci': [0, 1.97, 2.77]}\n",
    "\n",
    "usable2 = {'os':['(Non-Go, No-MP)', '(Non-Go, Low-MP)', '(Non-Go, High-MP)'],\n",
    "        'plt': [0, 12.24, 24.49],\n",
    "         'ci': [0, 6.48, 8.52]}\n",
    "\n",
    "usable = pd.DataFrame(usable)\n",
    "new_colors2 = ['blue','blue','blue']\n",
    "new_colors1 = ['red','red','red']\n",
    "\n",
    "barWidth = 0.3\n",
    "r1 = np.arange(len(usable1))\n",
    "r2 = [x + barWidth for x in r1]\n",
    "    \n",
    "plt.figure(figsize=(6,3.5))\n",
    "plt.bar(r1, usable1['plt'], yerr=usable1['ci'], width = barWidth, color=new_colors1,alpha=0.5, align='center',capsize=5,label='Go')\n",
    "plt.bar(r2, usable2['plt'], yerr=usable2['ci'], width = barWidth, color=new_colors2,alpha=0.5, align='center',capsize=5,label='Non-Go')\n",
    "plt.xticks([r + barWidth for r in range(len(usable1))], ['No MP', 'Low MP', 'High MP'])\n",
    "plt.legend()\n",
    "plt.xlabel('Memory Pressure State')\n",
    "plt.ylabel('Crash Rate (%)')\n",
    "plt.tight_layout()\n",
    "plt.savefig('figs/plt_mp_crashrate.png', dpi=400)\n",
    "plt.show()"
   ]
  },
  {
   "cell_type": "code",
   "execution_count": 150,
   "metadata": {},
   "outputs": [],
   "source": [
    "crashed_pages_mean = df_crash['pagesize_kb'].mean()\n",
    "succ_pages_mean = df_succ['pagesize_kb'].mean()\n",
    "\n",
    "crash_s1=crashed_pages_mean - stats.norm.interval(alpha=0.95, loc=np.mean(df_crash['pagesize_kb']), scale=stats.sem(df_crash['pagesize_kb']))[0]\n",
    "succ_s1=crashed_pages_mean - stats.norm.interval(alpha=0.95, loc=np.mean(df_succ['pagesize_kb']), scale=stats.sem(df_succ['pagesize_kb']))[0]\n",
    "\n",
    "# print(crashed_pages_mean)\n",
    "# print(succ_pages_mean)\n",
    "# print(crash_s1)\n",
    "# print(succ_s1)"
   ]
  },
  {
   "cell_type": "markdown",
   "metadata": {},
   "source": [
    "## `Figure 4b`"
   ]
  },
  {
   "cell_type": "code",
   "execution_count": 152,
   "metadata": {},
   "outputs": [
    {
     "data": {
      "image/png": "[encoded data removed]",
      "text/plain": [
       "<Figure size 432x252 with 1 Axes>"
      ]
     },
     "metadata": {
      "needs_background": "light"
     },
     "output_type": "display_data"
    }
   ],
   "source": [
    "plt.rcParams.update({'font.size': 14})\n",
    "\n",
    "usable = {'os':['Crashed','Successful'],\n",
    "        'plt':[1741.3, 1308.5],\n",
    "         'ci':[397.7, 523.8]}\n",
    "\n",
    "usable = pd.DataFrame(usable)\n",
    "new_colors = ['red','blue']\n",
    "\n",
    "plt.figure(figsize=(6,3.5))\n",
    "plt.bar(usable['os'],usable['plt'],yerr=usable['ci'],color=new_colors,alpha=0.5, align='center',capsize=5,width=0.5)\n",
    "plt.xlabel('Webpage Category')\n",
    "plt.ylabel('Mean Page Size (KB)')\n",
    "plt.tight_layout()\n",
    "plt.savefig('figs/plt_gsi_crashed_succ_pagesize.png', dpi=400)\n",
    "plt.show()"
   ]
  },
  {
   "cell_type": "markdown",
   "metadata": {},
   "source": [
    "### Analysis of Web pages that loaded successfully"
   ]
  },
  {
   "cell_type": "markdown",
   "metadata": {},
   "source": [
    "`Case-1: Consider \"all\" pages loaded successfully between treatment and control groups`\n",
    "\n",
    "Limitation: Due to differing crash rates, we have data on less successfully loaded pages in GSI, resulting in imbalance across groups"
   ]
  },
  {
   "cell_type": "code",
   "execution_count": 153,
   "metadata": {},
   "outputs": [
    {
     "name": "stdout",
     "output_type": "stream",
     "text": [
      "size of original df:  588\n",
      "size of df with successful loads only:  549\n"
     ]
    }
   ],
   "source": [
    "# remove all crashed pages from df_plt for subsequent analysis\n",
    "print(\"size of original df: \", len(df_plt))\n",
    "df_plt = df_plt.loc[(df_plt['PLT'] != 0)]\n",
    "df_plt['PLT'] = df_plt['PLT'].astype(float)\n",
    "print(\"size of df with successful loads only: \", len(df_plt))"
   ]
  },
  {
   "cell_type": "code",
   "execution_count": 156,
   "metadata": {},
   "outputs": [
    {
     "name": "stdout",
     "output_type": "stream",
     "text": [
      "Non-Go PLT mean= 23256.343410852704 std= 151.027242167575\n",
      "Go PLT     mean= 15637.774953642616 std= 117.62638353488117\n",
      "% Reduction in PLT over non-Go= 32.75909855052639\n"
     ]
    }
   ],
   "source": [
    "print(\"Non-Go PLT mean=\", df_plt.loc[df_plt['os'] == 0][\"PLT\"].mean(), \"std=\", np.sqrt(df_plt.loc[df_plt['os'] == 0][\"PLT\"].std()))\n",
    "print(\"Go PLT     mean=\", df_plt.loc[df_plt['os'] == 1][\"PLT\"].mean(), \"std=\", np.sqrt(df_plt.loc[df_plt['os'] == 1][\"PLT\"].std()))\n",
    "print(\"% Reduction in PLT over non-Go=\", (df_plt.loc[df_plt['os'] == 0][\"PLT\"].mean() - df_plt.loc[df_plt['os'] == 1][\"PLT\"].mean()) * 100.0 / df_plt.loc[df_plt['os'] == 0][\"PLT\"].mean() )\n"
   ]
  },
  {
   "cell_type": "markdown",
   "metadata": {},
   "source": [
    "`Case-2: Consider only \"common\" pages between treatment and control groups that were loaded successfully`\n",
    "\n",
    "Limitation: This is likely to be an underestimate of the causal effect."
   ]
  },
  {
   "cell_type": "code",
   "execution_count": 158,
   "metadata": {},
   "outputs": [
    {
     "data": {
      "text/plain": [
       "555"
      ]
     },
     "execution_count": 158,
     "metadata": {},
     "output_type": "execute_result"
    }
   ],
   "source": [
    "# find crashes within each MP level (no mp, low mp, high mp)\n",
    "# drop corresponding URLs in each OS (0 and 1)\n",
    "\n",
    "df_common = df_orig.copy(deep=True)\n",
    "\n",
    "to_drop = df_common.loc[(df_common['os']==0) & (df_common['mp_high']==1) & (df_common['PLT']==0)]\n",
    "list_url = to_drop['URL'].to_list()\n",
    "\n",
    "for i in list_url:\n",
    "    drop_index = (df_common.loc[(df_plt['URL'] == i) & (df_common['os']==0) & (df_common['mp_high']==1)]).index\n",
    "    df_common.drop(drop_index, axis=0, inplace=True)\n",
    "    drop = df_common.loc[(df_plt['URL'] == i) & (df_common['os']==1) & (df_common['mp_high']==1)]\n",
    "    df_common.drop(drop.index, axis=0, inplace=True)\n",
    "\n",
    "len(df_common)\n",
    "    \n",
    "to_drop = df_common.loc[(df_common['os']==0) & (df_common['mp_low']==1) & (df_common['PLT']==0)]\n",
    "list_url = to_drop['URL'].to_list()\n",
    "\n",
    "for i in list_url:\n",
    "    drop = df_common.loc[(df_plt['URL'] == i) & (df_common['os']==0) & (df_common['mp_low']==1)]\n",
    "    df_common.drop(drop.index, axis=0, inplace=True)\n",
    "    drop = df_common.loc[(df_plt['URL'] == i) & (df_common['os']==1) & (df_common['mp_low']==1)]\n",
    "    df_common.drop(drop.index, axis=0, inplace=True)\n",
    "    \n",
    "len(df_common)"
   ]
  },
  {
   "cell_type": "code",
   "execution_count": 160,
   "metadata": {},
   "outputs": [
    {
     "name": "stdout",
     "output_type": "stream",
     "text": [
      "13793.170169693492\n",
      "(12347.57565184092, 15238.764687546065)\n",
      "20408.627891156455\n",
      "(17815.450337220827, 23001.805445092083)\n",
      "6615.457721462963\n",
      "1445.5945178525726\n",
      "2593.1775539356277\n",
      "[13.793170169693493, 20.408627891156456]\n",
      "% Reduction in PLT over non-Go: 32.41500485355803\n"
     ]
    }
   ],
   "source": [
    "s_list = []\n",
    "plt_list = []\n",
    "\n",
    "# mean PLT w/ Go\n",
    "temp1 = df_common.loc[(df_common['os'] == 1)][\"PLT\"]\n",
    "temp1.reset_index(drop=True, inplace=True)\n",
    "t1_mean = temp1.mean()\n",
    "\n",
    "# mean PLT w/ GSI\n",
    "temp2 = df_common.loc[(df_common['os'] == 0)][\"PLT\"]\n",
    "temp2.reset_index(drop=True, inplace=True)\n",
    "t2_mean = temp2.mean()\n",
    "\n",
    "print(t1_mean)\n",
    "plt_list.append(t1_mean/1000)\n",
    "print(stats.norm.interval(alpha=0.95, loc=np.mean(temp1), scale=stats.sem(temp1)))\n",
    "print(t2_mean)\n",
    "plt_list.append(t2_mean/1000)\n",
    "print(stats.norm.interval(alpha=0.95, loc=np.mean(temp2), scale=stats.sem(temp2)))\n",
    "print(t2_mean-t1_mean)\n",
    "\n",
    "s1=(t1_mean)-stats.norm.interval(alpha=0.95, loc=np.mean(temp1), scale=stats.sem(temp1))[0]\n",
    "s_list.append(s1/1000)\n",
    "print(s1)\n",
    "s2=(t2_mean)-stats.norm.interval(alpha=0.95, loc=np.mean(temp2), scale=stats.sem(temp2))[0]\n",
    "s_list.append(s2/1000)\n",
    "print(s2)\n",
    "\n",
    "print(plt_list)\n",
    "print(\"% Reduction in PLT over non-Go:\", (np.mean(temp2) - np.mean(temp1)) * 100.0 / (np.mean(temp2)))"
   ]
  },
  {
   "cell_type": "markdown",
   "metadata": {},
   "source": [
    "## `Figure 6b`"
   ]
  },
  {
   "cell_type": "code",
   "execution_count": 161,
   "metadata": {},
   "outputs": [
    {
     "data": {
      "image/png": "[encoded data removed]",
      "text/plain": [
       "<Figure size 432x252 with 1 Axes>"
      ]
     },
     "metadata": {
      "needs_background": "light"
     },
     "output_type": "display_data"
    }
   ],
   "source": [
    "plt.rcParams.update({'font.size': 14})\n",
    "\n",
    "usable = {'os':['Android Go','Android Non-Go'],\n",
    "        'plt':plt_list,\n",
    "        'ci':s_list}\n",
    "\n",
    "usable = pd.DataFrame(usable) \n",
    "new_colors = ['red','blue']\n",
    "\n",
    "plt.figure(figsize=(6,3.5))\n",
    "plt.bar(usable['os'],usable['plt'],yerr=usable['ci'],color=new_colors,alpha=0.5, align='center',capsize=5,width=0.5)\n",
    "plt.xlabel('Operating System')\n",
    "plt.ylabel('Page Load Time (secs)')\n",
    "plt.tight_layout()\n",
    "plt.savefig('figs/plt_go_vs_gsi_common.png', dpi=400)\n",
    "plt.show()"
   ]
  },
  {
   "cell_type": "code",
   "execution_count": 162,
   "metadata": {},
   "outputs": [
    {
     "data": {
      "text/plain": [
       "549"
      ]
     },
     "execution_count": 162,
     "metadata": {},
     "output_type": "execute_result"
    }
   ],
   "source": [
    "len(df_plt)"
   ]
  },
  {
   "cell_type": "code",
   "execution_count": 163,
   "metadata": {},
   "outputs": [
    {
     "name": "stdout",
     "output_type": "stream",
     "text": [
      "15637.774953642616\n",
      "(14048.089918590009, 17227.459988695224)\n",
      "23256.343410852704\n",
      "(20473.11517225827, 26039.571649447138)\n",
      "7618.568457210087\n",
      "1589.6850350526074\n",
      "2783.2282385944345\n",
      "[15.637774953642616, 23.256343410852704]\n"
     ]
    }
   ],
   "source": [
    "s_list = []\n",
    "plt_list = []\n",
    "\n",
    "# mean PLT w/ Go\n",
    "temp1 = df_plt.loc[(df_plt['os'] == 1)][\"PLT\"]\n",
    "temp1.reset_index(drop=True, inplace=True)\n",
    "t1_mean = temp1.mean()\n",
    "\n",
    "# mean PLT w/ GSI\n",
    "temp2 = df_plt.loc[(df_plt['os'] == 0)][\"PLT\"]\n",
    "temp2.reset_index(drop=True, inplace=True)\n",
    "t2_mean = temp2.mean()\n",
    "\n",
    "print(t1_mean)\n",
    "plt_list.append(t1_mean/1000)\n",
    "print(stats.norm.interval(alpha=0.95, loc=np.mean(temp1), scale=stats.sem(temp1)))\n",
    "print(t2_mean)\n",
    "plt_list.append(t2_mean/1000)\n",
    "print(stats.norm.interval(alpha=0.95, loc=np.mean(temp2), scale=stats.sem(temp2)))\n",
    "print(t2_mean-t1_mean)\n",
    "\n",
    "s1=(t1_mean)-stats.norm.interval(alpha=0.95, loc=np.mean(temp1), scale=stats.sem(temp1))[0]\n",
    "s_list.append(s1/1000)\n",
    "print(s1)\n",
    "s2=(t2_mean)-stats.norm.interval(alpha=0.95, loc=np.mean(temp2), scale=stats.sem(temp2))[0]\n",
    "s_list.append(s2/1000)\n",
    "print(s2)\n",
    "\n",
    "print(plt_list)"
   ]
  },
  {
   "cell_type": "markdown",
   "metadata": {},
   "source": [
    "## Mean PLT plots consider \"All pages\"\n",
    "- Not included in the paper"
   ]
  },
  {
   "cell_type": "code",
   "execution_count": 164,
   "metadata": {},
   "outputs": [
    {
     "data": {
      "image/png": "[encoded data removed]",
      "text/plain": [
       "<Figure size 432x252 with 1 Axes>"
      ]
     },
     "metadata": {
      "needs_background": "light"
     },
     "output_type": "display_data"
    }
   ],
   "source": [
    "usable = {'os':['Android Go','Android Non-Go'],\n",
    "        'plt':plt_list,\n",
    "        'ci':s_list}\n",
    "\n",
    "usable = pd.DataFrame(usable)\n",
    "new_colors = ['red','blue']\n",
    "\n",
    "plt.figure(figsize=(6,3.5))\n",
    "plt.bar(usable['os'],usable['plt'],yerr=usable['ci'],color=new_colors,alpha=0.5, align='center',capsize=5,width=0.5)\n",
    "plt.xlabel('Operating System')\n",
    "plt.ylabel('Page Load Time (secs)')\n",
    "plt.tight_layout()\n",
    "plt.savefig('figs/plt_go_vs_gsi.png', dpi=400)\n",
    "plt.show()"
   ]
  },
  {
   "cell_type": "code",
   "execution_count": 165,
   "metadata": {},
   "outputs": [
    {
     "data": {
      "text/html": [
       "<div>\n",
       "<style scoped>\n",
       "    .dataframe tbody tr th:only-of-type {\n",
       "        vertical-align: middle;\n",
       "    }\n",
       "\n",
       "    .dataframe tbody tr th {\n",
       "        vertical-align: top;\n",
       "    }\n",
       "\n",
       "    .dataframe thead th {\n",
       "        text-align: right;\n",
       "    }\n",
       "</style>\n",
       "<table border=\"1\" class=\"dataframe\">\n",
       "  <thead>\n",
       "    <tr style=\"text-align: right;\">\n",
       "      <th></th>\n",
       "      <th>os</th>\n",
       "      <th>plt</th>\n",
       "      <th>ci</th>\n",
       "    </tr>\n",
       "  </thead>\n",
       "  <tbody>\n",
       "    <tr>\n",
       "      <th>0</th>\n",
       "      <td>Android Go</td>\n",
       "      <td>15.637775</td>\n",
       "      <td>1.589685</td>\n",
       "    </tr>\n",
       "    <tr>\n",
       "      <th>1</th>\n",
       "      <td>Android Non-Go</td>\n",
       "      <td>23.256343</td>\n",
       "      <td>2.783228</td>\n",
       "    </tr>\n",
       "  </tbody>\n",
       "</table>\n",
       "</div>"
      ],
      "text/plain": [
       "               os        plt        ci\n",
       "0      Android Go  15.637775  1.589685\n",
       "1  Android Non-Go  23.256343  2.783228"
      ]
     },
     "execution_count": 165,
     "metadata": {},
     "output_type": "execute_result"
    }
   ],
   "source": [
    "usable"
   ]
  },
  {
   "cell_type": "markdown",
   "metadata": {},
   "source": [
    "## `Figure 7`"
   ]
  },
  {
   "cell_type": "code",
   "execution_count": 169,
   "metadata": {},
   "outputs": [
    {
     "data": {
      "image/png": "[encoded data removed]",
      "text/plain": [
       "<Figure size 432x360 with 1 Axes>"
      ]
     },
     "metadata": {
      "needs_background": "light"
     },
     "output_type": "display_data"
    }
   ],
   "source": [
    "plt.figure(figsize=(6,5))\n",
    "plt.rcParams.update({'font.size': 10})\n",
    "\n",
    "x= [-6461.6/1000, -7618/1000, -7618/1000, -7843/1000, -11793/1000]\n",
    "y= ['Difference in means (common pages)', 'Difference in means (all pages)', 'Regression without controls', 'Regression with controls', 'Heckman Selection Model']\n",
    "\n",
    "# Define Error\n",
    "x_error = [3041/1000, 3124/1000, 3124/1000, 3014/1000, 4665/1000]\n",
    "plt.scatter(x,y)\n",
    "plt.errorbar(x, y, xerr = x_error,fmt='o',ecolor = 'blue',color='black',linewidth=1)\n",
    "plt.axvline(x=0, ymin=0, ymax=1, color='grey', linestyle='dotted', linewidth=3)\n",
    "\n",
    "for i,j in enumerate(np.array([-6.5,-7.6,-7.6,-7.8,-11.8])):\n",
    "    plt.annotate(j, xy=(x[i]+0.5,y[i]), ha='left', va='bottom')\n",
    "\n",
    "plt.xlabel('Effect Size (secs)')\n",
    "plt.ylabel('Methods')\n",
    "plt.grid(visible=True, which='major', color='gray', alpha=0.3, lw=1)\n",
    "plt.tight_layout()\n",
    "plt.savefig('figs/hline_methods_plt.png', dpi=400)\n",
    "plt.show()"
   ]
  },
  {
   "cell_type": "markdown",
   "metadata": {},
   "source": [
    "## OLS Regression Analysis\n",
    "- Finding the causal effect of OS\n",
    "- We evaluate 2 OLS regression models\n",
    "    * RM-1: We regress 'os' on PLT without any controls\n",
    "    * RM-2: We regress 'os' on PLT with controls for both number of Web objects, their sizes, and the number of DOM elements"
   ]
  },
  {
   "cell_type": "markdown",
   "metadata": {},
   "source": [
    "__`Regression Model - 1:`__ $Y = \\beta + \\beta_1 \\times os$\n",
    "\n",
    "_Model limitation: Due to differing crash rates between Go and non-Go, the Web pages loaded successfully are different across treatment (Android Go) and control groups (Android non-Go). This imbalance can impact the accuracy of results._"
   ]
  },
  {
   "cell_type": "code",
   "execution_count": 171,
   "metadata": {},
   "outputs": [
    {
     "name": "stdout",
     "output_type": "stream",
     "text": [
      "                            OLS Regression Results                            \n",
      "==============================================================================\n",
      "Dep. Variable:                    PLT   R-squared:                       0.040\n",
      "Model:                            OLS   Adj. R-squared:                  0.039\n",
      "Method:                 Least Squares   F-statistic:                     22.95\n",
      "Date:                Sat, 17 Sep 2022   Prob (F-statistic):           2.15e-06\n",
      "Time:                        23:56:46   Log-Likelihood:                -6175.1\n",
      "No. Observations:                 549   AIC:                         1.235e+04\n",
      "Df Residuals:                     547   BIC:                         1.236e+04\n",
      "Df Model:                           1                                         \n",
      "Covariance Type:            nonrobust                                         \n",
      "==============================================================================\n",
      "                 coef    std err          t      P>|t|      [0.025      0.975]\n",
      "------------------------------------------------------------------------------\n",
      "Intercept   2.326e+04   1157.933     20.084      0.000     2.1e+04    2.55e+04\n",
      "os         -7618.5685   1590.461     -4.790      0.000   -1.07e+04   -4494.410\n",
      "==============================================================================\n",
      "Omnibus:                      240.501   Durbin-Watson:                   1.321\n",
      "Prob(Omnibus):                  0.000   Jarque-Bera (JB):              934.621\n",
      "Skew:                           2.046   Prob(JB):                    1.12e-203\n",
      "Kurtosis:                       7.911   Cond. No.                         2.69\n",
      "==============================================================================\n",
      "\n",
      "Notes:\n",
      "[1] Standard Errors assume that the covariance matrix of the errors is correctly specified.\n"
     ]
    }
   ],
   "source": [
    "## specification-1: no controls\n",
    "formula = 'PLT ~ os'\n",
    "model_1 = smf.ols(formula, data=df_plt)\n",
    "results_1 = model_1.fit()\n",
    "print(results_1.summary())"
   ]
  },
  {
   "cell_type": "markdown",
   "metadata": {},
   "source": [
    "__`Regression Model - 2:`__ $Y = \\beta + \\beta_1 \\times os + \\beta_2 \\times images\\_kb + \\beta_3 \\times scripts\\_kb + \\beta_4 \\times css_kb + \\beta_5 \\times iframes\\_kb + \\beta_6 \\times font\\_kb + \\beta_7 \\times num\\_images + \\beta_8 \\times num\\_scripts + \\beta_9 \\times num\\_css + \\beta_{10} \\times num\\_iframes + \\beta_{11} \\times requests\\_font + \\beta_{12} \\times dom\\_elements$\n",
    "\n",
    "_Model limitation: Due to differing crash rates between Go and non-Go, the Web pages loaded successfully are different across treatment (Android Go) and control groups (Android non-Go). This imbalance can impact the accuracy of results. Controlling for Web page features can reduce bias as well as improve precision especially if crashes are randomly sampled over the treatment and control groups. Unfortunately, crashes are non-randomly sampled and thus, OLS regression with controls is insufficient for recovering the causal effect._"
   ]
  },
  {
   "cell_type": "code",
   "execution_count": 172,
   "metadata": {},
   "outputs": [
    {
     "name": "stdout",
     "output_type": "stream",
     "text": [
      "                            OLS Regression Results                            \n",
      "==============================================================================\n",
      "Dep. Variable:                    PLT   R-squared:                       0.128\n",
      "Model:                            OLS   Adj. R-squared:                  0.108\n",
      "Method:                 Least Squares   F-statistic:                     6.550\n",
      "Date:                Sat, 17 Sep 2022   Prob (F-statistic):           5.62e-11\n",
      "Time:                        23:58:24   Log-Likelihood:                -6148.9\n",
      "No. Observations:                 549   AIC:                         1.232e+04\n",
      "Df Residuals:                     536   BIC:                         1.238e+04\n",
      "Df Model:                          12                                         \n",
      "Covariance Type:            nonrobust                                         \n",
      "=================================================================================\n",
      "                    coef    std err          t      P>|t|      [0.025      0.975]\n",
      "---------------------------------------------------------------------------------\n",
      "Intercept      1.624e+04   1679.312      9.669      0.000    1.29e+04    1.95e+04\n",
      "os            -7842.9970   1534.234     -5.112      0.000   -1.09e+04   -4829.148\n",
      "images_kb         2.2405      1.069      2.095      0.037       0.140       4.341\n",
      "scripts_kb        0.8449      2.081      0.406      0.685      -3.244       4.933\n",
      "css_kb          -20.1659     13.370     -1.508      0.132     -46.430       6.098\n",
      "iframes_kb       -2.4463      6.926     -0.353      0.724     -16.051      11.158\n",
      "fonts_kb         -2.8628      7.968     -0.359      0.720     -18.514      12.789\n",
      "num_images       39.1662     29.606      1.323      0.186     -18.993      97.325\n",
      "num_scripts      37.6940     46.952      0.803      0.422     -54.538     129.926\n",
      "num_css         244.5123    175.033      1.397      0.163     -99.322     588.347\n",
      "num_iframes      74.5477     67.367      1.107      0.269     -57.789     206.884\n",
      "requests_font    83.5437    329.203      0.254      0.800    -563.143     730.230\n",
      "dom_elements      1.1562      0.638      1.811      0.071      -0.098       2.410\n",
      "==============================================================================\n",
      "Omnibus:                      247.681   Durbin-Watson:                   1.287\n",
      "Prob(Omnibus):                  0.000   Jarque-Bera (JB):             1033.194\n",
      "Skew:                           2.081   Prob(JB):                    4.41e-225\n",
      "Kurtosis:                       8.277   Cond. No.                     4.93e+03\n",
      "==============================================================================\n",
      "\n",
      "Notes:\n",
      "[1] Standard Errors assume that the covariance matrix of the errors is correctly specified.\n",
      "[2] The condition number is large, 4.93e+03. This might indicate that there are\n",
      "strong multicollinearity or other numerical problems.\n"
     ]
    }
   ],
   "source": [
    "## specification-2: with controls\n",
    "formula = 'PLT ~ os + images_kb + scripts_kb + css_kb + iframes_kb + fonts_kb + num_images + num_scripts + num_css + num_iframes + requests_font + dom_elements'\n",
    "model_2 = smf.ols(formula, data=df_plt)\n",
    "results_2 = model_2.fit()\n",
    "print(results_2.summary())"
   ]
  },
  {
   "cell_type": "markdown",
   "metadata": {},
   "source": [
    "## <font color=blue>C. Feature Selection Using Random Forest</font>\n",
    "- `Method: Random Forest based Feature Importances`\n",
    "- `Note: We use 100,000 trees in our random forest evaluation so computing feature importances takes time.`"
   ]
  },
  {
   "cell_type": "markdown",
   "metadata": {},
   "source": [
    "## Web page features that matter for both Android Go and non-Go"
   ]
  },
  {
   "cell_type": "code",
   "execution_count": 89,
   "metadata": {},
   "outputs": [
    {
     "name": "stdout",
     "output_type": "stream",
     "text": [
      "R2 of the model (training set) : 0.4252310461693881\n",
      "Total samples used in training : 549\n",
      "Feature importances            : [0.19124558 0.07466443 0.08301104 0.06812346 0.07507368 0.05016289\n",
      " 0.09635792 0.08230358 0.04810206 0.09102037 0.04418885 0.09574612]\n"
     ]
    }
   ],
   "source": [
    "from sklearn.ensemble import RandomForestRegressor\n",
    "\n",
    "formula = ['os', 'images_kb', 'scripts_kb', 'css_kb', 'iframes_kb', 'fonts_kb',\\\n",
    "            'num_images', 'num_scripts', 'num_css', 'num_iframes', 'requests_font', 'dom_elements']\n",
    "\n",
    "df_rf = df_plt.loc[df_plt['PLT'] != 0]\n",
    "exog = df_rf[formula]\n",
    "endog = df_rf[['PLT']]\n",
    "\n",
    "output = []\n",
    "num_features = [12]\n",
    "\n",
    "# Note: we used n_estimators=100000 in the paper, which takes substantial time to run.\n",
    "for i in num_features:\n",
    "    regr_overall = RandomForestRegressor(max_features=\"sqrt\",random_state=0,oob_score=True,n_estimators=100000)\n",
    "    random_forest_model_overall = regr_overall.fit(exog, endog['PLT'])\n",
    "    results = random_forest_model_overall.predict(exog)\n",
    "\n",
    "    print(\"R2 of the model (training set) :\", regr_overall.score(exog,endog))\n",
    "    print(\"Total samples used in training :\", len(regr_overall.oob_prediction_))\n",
    "    print(\"Feature importances            :\", regr_overall.feature_importances_)\n",
    "    \n",
    "    sorted_idx = regr_overall.feature_importances_.argsort()\n",
    "    feature_names = np.array(formula)"
   ]
  },
  {
   "cell_type": "code",
   "execution_count": 90,
   "metadata": {},
   "outputs": [
    {
     "data": {
      "image/png": "[encoded data removed]",
      "text/plain": [
       "<Figure size 432x252 with 1 Axes>"
      ]
     },
     "metadata": {
      "needs_background": "light"
     },
     "output_type": "display_data"
    }
   ],
   "source": [
    "from sklearn.inspection import permutation_importance\n",
    "\n",
    "perm_importance = permutation_importance(regr_overall, exog, endog)\n",
    "plt.rcParams.update({'figure.figsize': (6, 3.5)})\n",
    "plt.rcParams.update({'font.size': 14})\n",
    "width=0.5\n",
    "fig, ax = plt.subplots(figsize=(6,3.5))\n",
    "\n",
    "sorted_idx = perm_importance.importances_mean.argsort()\n",
    "ax.barh(feature_names[sorted_idx], perm_importance.importances_mean[sorted_idx], width, color='r')\n",
    "plt.tight_layout()\n",
    "plt.xlabel(\"Permutation Importance\")\n",
    "plt.show()\n",
    "fig.savefig('figs/permutation_features_randomforest_overall.png', dpi=400)"
   ]
  },
  {
   "cell_type": "markdown",
   "metadata": {},
   "source": [
    "### Features that are most predictive of PLT under Android Go"
   ]
  },
  {
   "cell_type": "code",
   "execution_count": 91,
   "metadata": {},
   "outputs": [
    {
     "name": "stdout",
     "output_type": "stream",
     "text": [
      "R2 of the model (training set) : 0.47946363019646077\n",
      "Total samples used in training : 291\n",
      "Feature importances            : [0.08477943 0.09056446 0.07682963 0.1151645  0.04880704 0.14550059\n",
      " 0.09289205 0.04413182 0.15234934 0.04736978 0.10161135]\n"
     ]
    }
   ],
   "source": [
    "from sklearn.ensemble import RandomForestRegressor\n",
    "\n",
    "formula = ['images_kb', 'scripts_kb', 'css_kb', 'iframes_kb', 'fonts_kb',\\\n",
    "            'num_images', 'num_scripts', 'num_css', 'num_iframes', 'requests_font', 'dom_elements']\n",
    "\n",
    "df_rf_go = df_plt.loc[df_plt['PLT'] != 0]\n",
    "df_go = df_rf_go.loc[df_rf_go['os']==1]\n",
    "\n",
    "exog = df_go[formula]\n",
    "endog = df_go[['PLT']]\n",
    "\n",
    "output = []\n",
    "num_features = [11]\n",
    "\n",
    "# Note: we used n_estimators=100000 in the paper, which takes substantial time to run.\n",
    "for i in num_features:\n",
    "    regr_go = RandomForestRegressor(max_features=\"sqrt\",random_state=0,oob_score=True,n_estimators=100000)\n",
    "    random_forest_model_go = regr_go.fit(exog, endog['PLT'])\n",
    "    results = random_forest_model_go.predict(exog)\n",
    "    \n",
    "    print(\"R2 of the model (training set) :\", regr_go.score(exog,endog))\n",
    "    print(\"Total samples used in training :\", len(regr_go.oob_prediction_))\n",
    "    print(\"Feature importances            :\", regr_go.feature_importances_)\n",
    "    \n",
    "    sorted_idx = regr_go.feature_importances_.argsort()\n",
    "    feature_names = np.array(formula)"
   ]
  },
  {
   "cell_type": "code",
   "execution_count": 92,
   "metadata": {},
   "outputs": [
    {
     "data": {
      "image/png": "[encoded data removed]",
      "text/plain": [
       "<Figure size 432x252 with 1 Axes>"
      ]
     },
     "metadata": {
      "needs_background": "light"
     },
     "output_type": "display_data"
    }
   ],
   "source": [
    "from sklearn.inspection import permutation_importance\n",
    "\n",
    "perm_importance = permutation_importance(regr_go, exog, endog)\n",
    "plt.rcParams.update({'figure.figsize': (6, 3.5)})\n",
    "plt.rcParams.update({'font.size': 14})\n",
    "width=0.5\n",
    "fig, ax = plt.subplots(figsize=(6,3.5))\n",
    "\n",
    "sorted_idx = perm_importance.importances_mean.argsort()\n",
    "ax.barh(feature_names[sorted_idx], perm_importance.importances_mean[sorted_idx], width, color='r')\n",
    "plt.tight_layout()\n",
    "plt.xlabel(\"Permutation Importance\")\n",
    "plt.show()\n",
    "fig.savefig('figs/permutation_features_randomforest_go.png', dpi=400)"
   ]
  },
  {
   "cell_type": "markdown",
   "metadata": {},
   "source": [
    "### Features that are most predictive of PLT under Android non-Go"
   ]
  },
  {
   "cell_type": "code",
   "execution_count": 93,
   "metadata": {},
   "outputs": [
    {
     "name": "stdout",
     "output_type": "stream",
     "text": [
      "R2 of the model (training set) : 0.36738421632045526\n",
      "Total samples used in training : 258\n",
      "Feature importances            : [0.10121808 0.10632404 0.08427789 0.08637303 0.07495566 0.10681574\n",
      " 0.10333613 0.06620394 0.09066712 0.05759645 0.12223191]\n"
     ]
    }
   ],
   "source": [
    "from sklearn.ensemble import RandomForestRegressor\n",
    "\n",
    "formula = ['images_kb', 'scripts_kb', 'css_kb', 'iframes_kb', 'fonts_kb',\\\n",
    "            'num_images', 'num_scripts', 'num_css', 'num_iframes', 'requests_font', 'dom_elements']\n",
    "\n",
    "df_rf_nongo = df_plt.loc[df_plt['PLT'] != 0]\n",
    "df_nongo = df_rf_nongo.loc[df_rf_nongo['os']==0]\n",
    "\n",
    "exog = df_nongo[formula]\n",
    "endog = df_nongo[['PLT']]\n",
    "\n",
    "output = []\n",
    "num_features = [11]\n",
    "\n",
    "# Note: we used n_estimators=100000 in the paper, which takes substantial time to run.\n",
    "for i in num_features:\n",
    "    regr_nongo = RandomForestRegressor(max_features=\"sqrt\",random_state=0,oob_score=True,n_estimators=100000)\n",
    "    random_forest_model_nongo = regr_nongo.fit(exog, endog['PLT'])\n",
    "    results = random_forest_model_nongo.predict(exog)\n",
    "    \n",
    "    print(\"R2 of the model (training set) :\", regr_nongo.score(exog,endog))\n",
    "    print(\"Total samples used in training :\", len(regr_nongo.oob_prediction_))\n",
    "    print(\"Feature importances            :\", regr_nongo.feature_importances_)\n",
    "    \n",
    "    sorted_idx = regr_nongo.feature_importances_.argsort()\n",
    "    feature_names = np.array(formula)"
   ]
  },
  {
   "cell_type": "code",
   "execution_count": 94,
   "metadata": {},
   "outputs": [
    {
     "data": {
      "image/png": "[encoded data removed]",
      "text/plain": [
       "<Figure size 432x252 with 1 Axes>"
      ]
     },
     "metadata": {
      "needs_background": "light"
     },
     "output_type": "display_data"
    }
   ],
   "source": [
    "from sklearn.inspection import permutation_importance\n",
    "\n",
    "perm_importance = permutation_importance(regr_nongo, exog, endog)\n",
    "plt.rcParams.update({'figure.figsize': (6, 3.5)})\n",
    "plt.rcParams.update({'font.size': 14})\n",
    "width=0.5\n",
    "fig, ax = plt.subplots(figsize=(6,3.5))\n",
    "\n",
    "sorted_idx = perm_importance.importances_mean.argsort()\n",
    "ax.barh(feature_names[sorted_idx], perm_importance.importances_mean[sorted_idx], width, color='r')\n",
    "plt.tight_layout()\n",
    "plt.xlabel(\"Permutation Importance\")\n",
    "plt.show()\n",
    "fig.savefig('figs/permutation_features_randomforest_nongo.png', dpi=400)"
   ]
  },
  {
   "cell_type": "markdown",
   "metadata": {},
   "source": [
    "## <font color=blue>D. Heterogeneous Treatment Effects Analysis</font>\n",
    "### `Figure 9`\n",
    "- Impact of OS across different memory pressure (MP) states"
   ]
  },
  {
   "cell_type": "code",
   "execution_count": 176,
   "metadata": {},
   "outputs": [
    {
     "data": {
      "image/png": "[encoded data removed]",
      "text/plain": [
       "<Figure size 432x504 with 1 Axes>"
      ]
     },
     "metadata": {
      "needs_background": "light"
     },
     "output_type": "display_data"
    }
   ],
   "source": [
    "plt.figure(figsize=(6,7))\n",
    "plt.rcParams.update({'font.size': 10})\n",
    "\n",
    "x = [-662/1000, -14520/1000, -11123/1000,\\\n",
    "     -662/1000, -14520/1000, -11220/1000,\\\n",
    "     -662/1000, -14510/1000, -12156/1000,\\\n",
    "     -2441/1000, -16700/1000, -14260/1000]\n",
    "y = ['Diff. in means (common pages) No MP','Diff. in means (common pages) Low MP','Diff. in means (common pages) High MP',\\\n",
    "    'Diff. in means (all pages) No MP','Diff. in means (all pages) Low MP','Diff. in means (all pages) High MP',\\\n",
    "    'Regression with controls No MP','Regression with controls Low MP','Regression with controls High MP',\\\n",
    "    'Heckman Selection Model No MP','Heckman Selection Model Low MP','Heckman Selection Model High MP']\n",
    "\n",
    "# Define Error\n",
    "x_error = [3041/1000, 4132/1000, 5576/1000,\\\n",
    "           4600/1000, 4780/1000, 4980/1000,\\\n",
    "           4171/1000, 4370/1000, 4530/1000,\\\n",
    "           5451/1000, 5470/1000, 5510/1000]\n",
    "\n",
    "plt.scatter(x,y)\n",
    "plt.errorbar(x, y, xerr = x_error,fmt='o',ecolor = 'blue',color='black',linewidth=1)\n",
    "plt.axvline(x=0, ymin=0, ymax=1, color='grey', linestyle='dotted', linewidth=3)\n",
    "\n",
    "for i,j in enumerate(np.array([-660/1000, -14520/1000, -11120/1000,\\\n",
    "     -660/1000, -14520/1000, -11220/1000,\\\n",
    "     -660/1000, -14510/1000, -12160/1000,\\\n",
    "     -2440/1000, -16700/1000, -14260/1000])):\n",
    "    plt.annotate(j, xy=(x[i]+0.5,y[i]), ha='left', va='bottom')\n",
    "\n",
    "plt.xlabel('Effect Size (secs)')\n",
    "plt.ylabel('Methods')\n",
    "plt.grid(visible=True, which='major', color='gray', alpha=0.3, lw=1)\n",
    "plt.tight_layout()\n",
    "plt.savefig('figs/hline_methods_plt_mp.png', dpi=400)\n",
    "plt.show()"
   ]
  },
  {
   "cell_type": "code",
   "execution_count": 178,
   "metadata": {},
   "outputs": [
    {
     "name": "stdout",
     "output_type": "stream",
     "text": [
      "N (observations) = 588\n"
     ]
    }
   ],
   "source": [
    "# Clean data as done earliar\n",
    "data = pd.read_csv(\"imc22_dataset.csv\")\n",
    "\n",
    "# Step-1\n",
    "drop_index = data.loc[data[\"URL\"] == \"https://www.alipay.com\"].index\n",
    "data.drop(drop_index, axis=0, inplace=True)\n",
    "drop_index = data.loc[data[\"URL\"] == \"https://www.jd.com\"].index\n",
    "data.drop(drop_index, axis=0, inplace=True)\n",
    "print(\"N (observations) =\",data.count()[1])\n",
    "\n",
    "# Step-2\n",
    "## if PLT == E or 0, set crash=1 otherwise 0\n",
    "data['crash'] = np.where((data['PLT']=='E') | (data['PLT']=='0'), 1, 0)\n",
    "\n",
    "## if PLT == E, change to 0\n",
    "data['PLT'] = data['PLT'].replace('E',0)\n",
    "\n",
    "## convert to float\n",
    "data['PLT'] = data['PLT'].astype(float)"
   ]
  },
  {
   "cell_type": "code",
   "execution_count": 179,
   "metadata": {},
   "outputs": [
    {
     "data": {
      "text/plain": [
       "549"
      ]
     },
     "execution_count": 179,
     "metadata": {},
     "output_type": "execute_result"
    }
   ],
   "source": [
    "# Let's make sure the data frame has no crashed pages in it\n",
    "df_plt = df_plt.loc[(df_plt['PLT'] != 0)]\n",
    "len(df_plt)"
   ]
  },
  {
   "cell_type": "markdown",
   "metadata": {},
   "source": [
    "### Difference in Means (All Pages)"
   ]
  },
  {
   "cell_type": "code",
   "execution_count": 205,
   "metadata": {
    "scrolled": true
   },
   "outputs": [
    {
     "name": "stdout",
     "output_type": "stream",
     "text": [
      "[Go, No MP]      : 10209 -- CI: (8721.979195147524, 11695.735090566766) -- One-sided: 1487\n",
      "[Non-Go, No MP]  : 10871 -- CI: (9299.112226814763, 12442.157160940333) -- One-sided: 1572\n",
      "[diff in means]  : -662\n",
      "% Reduction      : 6.1 %\n",
      "\n",
      "[diff in mean CI]: -- One-sided: 141.69564076838492\n",
      "\n",
      "[Go, Low MP]     : 11260 -- CI: (9763.345297084912, 12757.345424564568) -- One-sided: 1497\n",
      "[Non-Go, Low MP] : 25780 -- CI: (21228.11918600316, 30331.745930275916) -- One-sided: 4552\n",
      "[diff in means]  : -14520\n",
      "% Reduction      : 56.3 %\n",
      "\n",
      "[diff in mean CI]: -- One-sided: 4132.211981964454\n",
      "\n",
      "[Go, High MP]    : 25603 -- CI: (22028.4058551952, 29177.24021792979) -- One-sided: 3574\n",
      "[Non-Go, High MP]: 36726 -- CI: (30240.03948495898, 43212.39835287888) -- One-sided: 6486\n",
      "[diff in means]  : -11123\n",
      "% Reduction      : 30.3 %\n",
      "\n",
      "[diff in mean CI]: -- One-sided: 5576\n"
     ]
    }
   ],
   "source": [
    "plt_list = []\n",
    "\n",
    "temp1 = df_plt.loc[(df_plt['os'] == 1) & (df_plt['mp_no'] == 1)][\"PLT\"]\n",
    "temp1.reset_index(drop=True, inplace=True)\n",
    "t1_mean = temp1.mean()\n",
    "plt_list.append(t1_mean/1000)\n",
    "\n",
    "temp2 = df_plt.loc[(df_plt['os'] == 0) & (df_plt['mp_no'] == 1)][\"PLT\"]\n",
    "temp2.reset_index(drop=True, inplace=True)\n",
    "t2_mean = temp2.mean()\n",
    "plt_list.append(t2_mean/1000)\n",
    "\n",
    "temp3 = df_plt.loc[(df_plt['os'] == 1) & (df_plt['mp_low'] == 1)][\"PLT\"]\n",
    "temp3.reset_index(drop=True, inplace=True)\n",
    "t3_mean = temp3.mean()\n",
    "plt_list.append(t3_mean/1000)\n",
    "\n",
    "temp4 = df_plt.loc[(df_plt['os'] == 0) & (df_plt['mp_low'] == 1)][\"PLT\"]\n",
    "temp4.reset_index(drop=True, inplace=True)\n",
    "t4_mean = temp4.mean()\n",
    "plt_list.append(t4_mean/1000)\n",
    "\n",
    "temp5 = df_plt.loc[(df_plt['os'] == 1) & (df_plt['mp_high'] == 1)][\"PLT\"]\n",
    "temp5.reset_index(drop=True, inplace=True)\n",
    "t5_mean = temp5.mean()\n",
    "plt_list.append(t5_mean/1000)\n",
    "\n",
    "temp6 = df_plt.loc[(df_plt['os'] == 0) & (df_plt['mp_high'] == 1)][\"PLT\"]\n",
    "temp6.reset_index(drop=True, inplace=True)\n",
    "t6_mean = temp6.mean()\n",
    "plt_list.append(t6_mean/1000)\n",
    "\n",
    "# Finding 1-sided CI values\n",
    "s_list = []\n",
    "s1=(t1_mean)-stats.norm.interval(alpha=0.95, loc=np.mean(temp1), scale=stats.sem(temp1))[0]\n",
    "s_list.append(s1/1000)\n",
    "s2=(t2_mean)-stats.norm.interval(alpha=0.95, loc=np.mean(temp2), scale=stats.sem(temp2))[0]\n",
    "s_list.append(s2/1000)\n",
    "\n",
    "#s12 = (t1_mean-t2_mean) - stats.norm.interval(alpha=0.95, loc=np.mean((temp1-temp2)), scale=stats.sem((temp1-temp2)))[0]\n",
    "\n",
    "s12 = (t1_mean-t2_mean) - stats.norm.interval(alpha=0.95, loc=np.nanmean((temp1-temp2)), scale=stats.sem((temp1-temp2), nan_policy='omit'))[0]\n",
    "\n",
    "\n",
    "s3=(t3_mean)-stats.norm.interval(alpha=0.95, loc=np.mean(temp3), scale=stats.sem(temp3))[0]\n",
    "s_list.append(s3/1000)\n",
    "s4=(t4_mean)-stats.norm.interval(alpha=0.95, loc=np.mean(temp4), scale=stats.sem(temp4))[0]\n",
    "s_list.append(s4/1000)\n",
    "\n",
    "s34 = (t3_mean-t4_mean) - stats.norm.interval(alpha=0.95, loc=np.nanmean((temp3-temp4)), scale=stats.sem((temp3-temp4), nan_policy='omit'))[0]\n",
    "\n",
    "s5=(t5_mean)-stats.norm.interval(alpha=0.95, loc=np.mean(temp5), scale=stats.sem(temp5))[0]\n",
    "s_list.append(s5/1000)\n",
    "s6=(t6_mean)-stats.norm.interval(alpha=0.95, loc=np.mean(temp6), scale=stats.sem(temp6))[0]\n",
    "s_list.append(s6/1000)\n",
    "\n",
    "s56 = (t5_mean-t6_mean) - stats.norm.interval(alpha=0.95, loc=np.nanmean((temp5-temp6)), scale=stats.sem((temp5-temp6), nan_policy='omit'))[0]\n",
    "\n",
    "print(\"[Go, No MP]      :\", round(t1_mean), \"-- CI:\", stats.norm.interval(alpha=0.95, loc=np.mean(temp1), scale=stats.sem(temp1)), \"-- One-sided:\", round(s1))\n",
    "print(\"[Non-Go, No MP]  :\", round(t2_mean), \"-- CI:\", stats.norm.interval(alpha=0.95, loc=np.mean(temp2), scale=stats.sem(temp2)), \"-- One-sided:\", round(s2))\n",
    "print(\"[diff in means]  :\", round(t1_mean-t2_mean))\n",
    "print(\"% Reduction      :\", round( (t2_mean-t1_mean)*100.0/t2_mean ,1), \"%\\n\")\n",
    "print(\"[diff in mean CI]:\", \"-- One-sided:\", s12)\n",
    "\n",
    "print(\"\\n[Go, Low MP]     :\", round(t3_mean), \"-- CI:\", stats.norm.interval(alpha=0.95, loc=np.mean(temp3), scale=stats.sem(temp3)), \"-- One-sided:\", round(s3))\n",
    "print(\"[Non-Go, Low MP] :\", round(t4_mean), \"-- CI:\", stats.norm.interval(alpha=0.95, loc=np.mean(temp4), scale=stats.sem(temp4)), \"-- One-sided:\", round(s4))\n",
    "print(\"[diff in means]  :\", round(t3_mean-t4_mean))\n",
    "print(\"% Reduction      :\", round( (t4_mean-t3_mean)*100.0/t4_mean ,1), \"%\\n\")\n",
    "print(\"[diff in mean CI]:\", \"-- One-sided:\", s34)\n",
    "\n",
    "print(\"\\n[Go, High MP]    :\", round(t5_mean), \"-- CI:\", stats.norm.interval(alpha=0.95, loc=np.mean(temp5), scale=stats.sem(temp5)), \"-- One-sided:\", round(s5))\n",
    "print(\"[Non-Go, High MP]:\", round(t6_mean), \"-- CI:\", stats.norm.interval(alpha=0.95, loc=np.mean(temp6), scale=stats.sem(temp6)), \"-- One-sided:\", round(s6))\n",
    "print(\"[diff in means]  :\", round(t5_mean-t6_mean))\n",
    "print(\"% Reduction      :\", round( (t6_mean-t5_mean)*100.0/t6_mean ,1), \"%\\n\")\n",
    "print(\"[diff in mean CI]:\", \"-- One-sided:\", round(s56))"
   ]
  },
  {
   "cell_type": "code",
   "execution_count": 182,
   "metadata": {},
   "outputs": [
    {
     "data": {
      "image/png": "[encoded data removed]",
      "text/plain": [
       "<Figure size 432x252 with 1 Axes>"
      ]
     },
     "metadata": {
      "needs_background": "light"
     },
     "output_type": "display_data"
    }
   ],
   "source": [
    "plt.rcParams.update({'font.size': 14})\n",
    "\n",
    "usable = {'os':['(Go, No-MP)', '(Non-Go, No-MP)', '(Go, Low-MP)', '(Non-Go, Low-MP)', '(Go, High-MP)', '(Non-Go, High-MP)'],\n",
    "        'plt': plt_list,\n",
    "         'ci': s_list}\n",
    "\n",
    "usable1 = {'os':['(Go, No-MP)', '(Go, Low-MP)', '(Go, High-MP)'],\n",
    "        'plt': [10.209, 11.178, 25.498],\n",
    "         'ci': [1.487, 1.490, 3.543]}\n",
    "\n",
    "usable2 = {'os':['(Non-Go, No-MP)', '(Non-Go, Low-MP)', '(Non-Go, High-MP)'],\n",
    "        'plt': [10.871, 25.780, 36.726],\n",
    "         'ci': [1.572, 4.552, 6.486]}\n",
    "\n",
    "usable = pd.DataFrame(usable)\n",
    "new_colors2 = ['blue','blue','blue']\n",
    "new_colors1 = ['red','red','red']\n",
    "\n",
    "barWidth = 0.3\n",
    "r1 = np.arange(len(usable1))\n",
    "r2 = [x + barWidth for x in r1]\n",
    "    \n",
    "plt.figure(figsize=(6,3.5))\n",
    "plt.bar(r1, usable1['plt'], width = barWidth, yerr=usable1['ci'],color=new_colors1,alpha=0.5, align='center',capsize=5,label='Go')\n",
    "plt.bar(r2, usable2['plt'], width = barWidth, yerr=usable2['ci'],color=new_colors2,alpha=0.5, align='center',capsize=5,label='Non-Go')\n",
    "plt.xticks([r + barWidth for r in range(len(usable1))], ['No MP', 'Low MP', 'High MP'])\n",
    "plt.legend()\n",
    "plt.xlabel('Memory Pressure State')\n",
    "plt.ylabel('Page Load Time (secs)')\n",
    "plt.tight_layout()\n",
    "plt.savefig('figs/plt_mp.png', dpi=400)\n",
    "plt.show()"
   ]
  },
  {
   "cell_type": "markdown",
   "metadata": {},
   "source": [
    "### Difference in Means across MP States (Common Pages)"
   ]
  },
  {
   "cell_type": "code",
   "execution_count": 183,
   "metadata": {},
   "outputs": [
    {
     "data": {
      "text/plain": [
       "555"
      ]
     },
     "execution_count": 183,
     "metadata": {},
     "output_type": "execute_result"
    }
   ],
   "source": [
    "# find crashes within each MP level (no mp, low mp, high mp)\n",
    "# drop corresponding URLs in each OS (0 and 1)\n",
    "\n",
    "df_common = df_orig.copy(deep=True)\n",
    "to_drop = df_common.loc[(df_common['os']==0) & (df_common['mp_high']==1) & (df_common['PLT']==0)]\n",
    "list_url = to_drop['URL'].to_list()\n",
    "\n",
    "for i in list_url:\n",
    "    drop_index = (df_common.loc[(df_plt['URL'] == i) & (df_common['os']==0) & (df_common['mp_high']==1)]).index\n",
    "    df_common.drop(drop_index, axis=0, inplace=True)\n",
    "    drop = df_common.loc[(df_plt['URL'] == i) & (df_common['os']==1) & (df_common['mp_high']==1)]\n",
    "    df_common.drop(drop.index, axis=0, inplace=True)\n",
    "\n",
    "len(df_common)\n",
    "    \n",
    "to_drop = df_common.loc[(df_common['os']==0) & (df_common['mp_low']==1) & (df_common['PLT']==0)]\n",
    "list_url = to_drop['URL'].to_list()\n",
    "\n",
    "for i in list_url:\n",
    "    drop = df_common.loc[(df_plt['URL'] == i) & (df_common['os']==0) & (df_common['mp_low']==1)]\n",
    "    df_common.drop(drop.index, axis=0, inplace=True)\n",
    "    drop = df_common.loc[(df_plt['URL'] == i) & (df_common['os']==1) & (df_common['mp_low']==1)]\n",
    "    df_common.drop(drop.index, axis=0, inplace=True)\n",
    "    \n",
    "len(df_common)"
   ]
  },
  {
   "cell_type": "code",
   "execution_count": 184,
   "metadata": {},
   "outputs": [
    {
     "name": "stdout",
     "output_type": "stream",
     "text": [
      "[Go, No MP]      : 10209 -- CI: (8721.979195147524, 11695.735090566766) -- One-sided: 1487\n",
      "[Non-Go, No MP]  : 10871 -- CI: (9299.112226814763, 12442.157160940333) -- One-sided: 1572\n",
      "[diff in means]  : -662\n",
      "[diff in mean CI]: -- One-sided: 142\n",
      "\n",
      "[Go, Low MP]     : 10607 -- CI: (8995.406538615967, 12218.713001613913) -- One-sided: 1612\n",
      "[Non-Go, Low MP] : 22623 -- CI: (18291.820465118297, 26954.591779779665) -- One-sided: 4331\n",
      "[diff in means]  : -12016\n",
      "[diff in mean CI]: -- One-sided: 4618.311602448355\n",
      "\n",
      "[Go, High MP]    : 22062 -- CI: (18479.506102226762, 25645.104800141657) -- One-sided: 3583\n",
      "[Non-Go, High MP]: 27732 -- CI: (21919.51340582014, 33544.572308465584) -- One-sided: 5813\n",
      "[diff in means]  : -5670\n",
      "[diff in mean CI]: -- One-sided: 8851\n"
     ]
    }
   ],
   "source": [
    "plt_list = []\n",
    "\n",
    "temp1 = df_common.loc[(df_common['os'] == 1) & (df_common['mp_no'] == 1)][\"PLT\"]\n",
    "temp1.reset_index(drop=True, inplace=True)\n",
    "t1_mean = temp1.mean()\n",
    "plt_list.append(t1_mean/1000)\n",
    "\n",
    "temp2 = df_common.loc[(df_common['os'] == 0) & (df_common['mp_no'] == 1)][\"PLT\"]\n",
    "temp2.reset_index(drop=True, inplace=True)\n",
    "t2_mean = temp2.mean()\n",
    "plt_list.append(t2_mean/1000)\n",
    "\n",
    "temp3 = df_common.loc[(df_common['os'] == 1) & (df_common['mp_low'] == 1)][\"PLT\"]\n",
    "temp3.reset_index(drop=True, inplace=True)\n",
    "t3_mean = temp3.mean()\n",
    "plt_list.append(t3_mean/1000)\n",
    "\n",
    "temp4 = df_common.loc[(df_common['os'] == 0) & (df_common['mp_low'] == 1)][\"PLT\"]\n",
    "temp4.reset_index(drop=True, inplace=True)\n",
    "t4_mean = temp4.mean()\n",
    "plt_list.append(t4_mean/1000)\n",
    "\n",
    "temp5 = df_common.loc[(df_common['os'] == 1) & (df_common['mp_high'] == 1)][\"PLT\"]\n",
    "temp5.reset_index(drop=True, inplace=True)\n",
    "t5_mean = temp5.mean()\n",
    "plt_list.append(t5_mean/1000)\n",
    "\n",
    "temp6 = df_common.loc[(df_common['os'] == 0) & (df_common['mp_high'] == 1)][\"PLT\"]\n",
    "temp6.reset_index(drop=True, inplace=True)\n",
    "t6_mean = temp6.mean()\n",
    "plt_list.append(t6_mean/1000)\n",
    "\n",
    "# Finding 1-sided CI values\n",
    "s_list = []\n",
    "s1=(t1_mean)-stats.norm.interval(alpha=0.95, loc=np.mean(temp1), scale=stats.sem(temp1))[0]\n",
    "s_list.append(s1/1000)\n",
    "s2=(t2_mean)-stats.norm.interval(alpha=0.95, loc=np.mean(temp2), scale=stats.sem(temp2))[0]\n",
    "s_list.append(s2/1000)\n",
    "\n",
    "s12 = (t1_mean-t2_mean) - stats.norm.interval(alpha=0.95, loc=np.mean((temp1-temp2)), scale=stats.sem((temp1-temp2)))[0]\n",
    "\n",
    "s3=(t3_mean)-stats.norm.interval(alpha=0.95, loc=np.mean(temp3), scale=stats.sem(temp3))[0]\n",
    "s_list.append(s3/1000)\n",
    "s4=(t4_mean)-stats.norm.interval(alpha=0.95, loc=np.mean(temp4), scale=stats.sem(temp4))[0]\n",
    "s_list.append(s4/1000)\n",
    "\n",
    "s34 = (t3_mean-t4_mean) - stats.norm.interval(alpha=0.95, loc=np.nanmean((temp3-temp4)), scale=stats.sem((temp3-temp4), nan_policy='omit'))[0]\n",
    "\n",
    "s5=(t5_mean)-stats.norm.interval(alpha=0.95, loc=np.mean(temp5), scale=stats.sem(temp5))[0]\n",
    "s_list.append(s5/1000)\n",
    "s6=(t6_mean)-stats.norm.interval(alpha=0.95, loc=np.mean(temp6), scale=stats.sem(temp6))[0]\n",
    "s_list.append(s6/1000)\n",
    "\n",
    "s56 = (t5_mean-t6_mean) - stats.norm.interval(alpha=0.95, loc=np.nanmean((temp5-temp6)), scale=stats.sem((temp5-temp6), nan_policy='omit'))[0]\n",
    "\n",
    "print(\"[Go, No MP]      :\", round(t1_mean), \"-- CI:\", stats.norm.interval(alpha=0.95, loc=np.mean(temp1), scale=stats.sem(temp1)), \"-- One-sided:\", round(s1))\n",
    "print(\"[Non-Go, No MP]  :\", round(t2_mean), \"-- CI:\", stats.norm.interval(alpha=0.95, loc=np.mean(temp2), scale=stats.sem(temp2)), \"-- One-sided:\", round(s2))\n",
    "print(\"[diff in means]  :\", round(t1_mean-t2_mean))\n",
    "print(\"[diff in mean CI]:\", \"-- One-sided:\", round(s12))\n",
    "\n",
    "print(\"\\n[Go, Low MP]     :\", round(t3_mean), \"-- CI:\", stats.norm.interval(alpha=0.95, loc=np.mean(temp3), scale=stats.sem(temp3)), \"-- One-sided:\", round(s3))\n",
    "print(\"[Non-Go, Low MP] :\", round(t4_mean), \"-- CI:\", stats.norm.interval(alpha=0.95, loc=np.mean(temp4), scale=stats.sem(temp4)), \"-- One-sided:\", round(s4))\n",
    "print(\"[diff in means]  :\", round(t3_mean-t4_mean))\n",
    "print(\"[diff in mean CI]:\", \"-- One-sided:\", s34)\n",
    "\n",
    "print(\"\\n[Go, High MP]    :\", round(t5_mean), \"-- CI:\", stats.norm.interval(alpha=0.95, loc=np.mean(temp5), scale=stats.sem(temp5)), \"-- One-sided:\", round(s5))\n",
    "print(\"[Non-Go, High MP]:\", round(t6_mean), \"-- CI:\", stats.norm.interval(alpha=0.95, loc=np.mean(temp6), scale=stats.sem(temp6)), \"-- One-sided:\", round(s6))\n",
    "print(\"[diff in means]  :\", round(t5_mean-t6_mean))\n",
    "print(\"[diff in mean CI]:\", \"-- One-sided:\", round(s56))\n",
    "\n"
   ]
  },
  {
   "cell_type": "markdown",
   "metadata": {},
   "source": [
    "## `Figure 8c`"
   ]
  },
  {
   "cell_type": "code",
   "execution_count": 185,
   "metadata": {},
   "outputs": [
    {
     "data": {
      "image/png": "[encoded data removed]",
      "text/plain": [
       "<Figure size 432x252 with 1 Axes>"
      ]
     },
     "metadata": {
      "needs_background": "light"
     },
     "output_type": "display_data"
    }
   ],
   "source": [
    "usable = {'os':['(Go, No-MP)', '(Non-Go, No-MP)', '(Go, Low-MP)', '(Non-Go, Low-MP)', '(Go, High-MP)', '(Non-Go, High-MP)'],\n",
    "        'plt': plt_list,\n",
    "         'ci': s_list}\n",
    "\n",
    "usable1 = {'os':['(Go, No-MP)', '(Go, Low-MP)', '(Go, High-MP)'],\n",
    "        'plt': [10.209, 11.260, 25.780],\n",
    "         'ci': [1.487, 1.497, 3.574]}\n",
    "\n",
    "usable2 = {'os':['(Non-Go, No-MP)', '(Non-Go, Low-MP)', '(Non-Go, High-MP)'],\n",
    "        'plt': [10.871, 25.603, 36.726],\n",
    "         'ci': [1.572, 4.552, 6.486]}\n",
    "\n",
    "usable = pd.DataFrame(usable)\n",
    "new_colors2 = ['blue','blue','blue']\n",
    "new_colors1 = ['red','red','red']\n",
    "barWidth = 0.3\n",
    "r1 = np.arange(len(usable1))\n",
    "r2 = [x + barWidth for x in r1]\n",
    "    \n",
    "plt.figure(figsize=(6,3.5))\n",
    "plt.bar(r1, usable1['plt'], width = barWidth, yerr=usable1['ci'],color=new_colors1,alpha=0.5, align='center',capsize=5,label='Go')\n",
    "plt.bar(r2, usable2['plt'], width = barWidth, yerr=usable2['ci'],color=new_colors2,alpha=0.5, align='center',capsize=5,label='Non-Go')\n",
    "plt.xticks([r + barWidth for r in range(len(usable1))], ['No MP', 'Low MP', 'High MP'])\n",
    "plt.legend()\n",
    "plt.xlabel('Memory Pressure State')\n",
    "plt.ylabel('Page Load Time (secs)')\n",
    "plt.tight_layout()\n",
    "plt.savefig('figs/plt_mp_common.png', dpi=400)\n",
    "plt.show()"
   ]
  },
  {
   "cell_type": "markdown",
   "metadata": {},
   "source": [
    "### Mean page size of successfully loaded and crashed pages"
   ]
  },
  {
   "cell_type": "code",
   "execution_count": 186,
   "metadata": {},
   "outputs": [
    {
     "data": {
      "image/png": "[encoded data removed]",
      "text/plain": [
       "<Figure size 432x252 with 1 Axes>"
      ]
     },
     "metadata": {
      "needs_background": "light"
     },
     "output_type": "display_data"
    }
   ],
   "source": [
    "usable = {'os':['Crashed','Successful'],\n",
    "        'plt':[1940.1, 1008.4],\n",
    "         'ci':[779, 226]}\n",
    "\n",
    "usable = pd.DataFrame(usable)\n",
    "new_colors = ['red','blue']\n",
    "    \n",
    "plt.figure(figsize=(6,3.5))\n",
    "plt.bar(usable['os'],usable['plt'],yerr=usable['ci'],color=new_colors,alpha=0.5, align='center',capsize=5,width=0.5)\n",
    "plt.xlabel('Webpage Category')\n",
    "plt.ylabel('Mean Page Size (KB)')\n",
    "plt.tight_layout()\n",
    "plt.savefig('figs/plt_gsi_crashed_succ_pagesize.png', dpi=400)\n",
    "plt.show()"
   ]
  },
  {
   "cell_type": "markdown",
   "metadata": {},
   "source": [
    "## Impact of Device Characteristics"
   ]
  },
  {
   "cell_type": "code",
   "execution_count": 199,
   "metadata": {},
   "outputs": [],
   "source": [
    "dv = pd.read_excel(\"android_devices.xlsx\")\n",
    "#dv.describe()"
   ]
  },
  {
   "cell_type": "code",
   "execution_count": 200,
   "metadata": {},
   "outputs": [
    {
     "name": "stdout",
     "output_type": "stream",
     "text": [
      "[Nokia-1]       : 9.660677777777794 -- One-sided: 3.3561696707329176\n",
      "[Nokia-1 Plus]  : 8.099008333333332 -- One-sided: 2.692935775513297\n",
      "['Nokia-1' - 'Nokia-1 Plus']: Mean diff 1.561669444444462\n",
      "% Reduction     : 16.16521615115587 %\n"
     ]
    }
   ],
   "source": [
    "nokia_mean = dv[\"nokia\"].mean()\n",
    "nokiaplus_mean = dv[\"nokiaplus\"].mean()\n",
    "\n",
    "nokia_s1=(nokia_mean - stats.norm.interval(alpha=0.95, loc=np.mean(dv[\"nokia\"]), scale=stats.sem(dv[\"nokia\"]))[0])/1000\n",
    "nokiaplus_s1=(nokiaplus_mean - stats.norm.interval(alpha=0.95, loc=np.mean(dv[\"nokiaplus\"]), scale=stats.sem(dv[\"nokiaplus\"]))[0])/1000\n",
    "\n",
    "print(\"[Nokia-1]       :\", nokia_mean/1000, \"-- One-sided:\", nokia_s1)\n",
    "print(\"[Nokia-1 Plus]  :\", nokiaplus_mean/1000, \"-- One-sided:\", nokiaplus_s1)\n",
    "print(\"['Nokia-1' - 'Nokia-1 Plus']: Mean diff\", (nokia_mean - nokiaplus_mean)/1000)\n",
    "print(\"% Reduction     :\", (nokia_mean - nokiaplus_mean) * 100.0 / nokia_mean, \"%\")"
   ]
  },
  {
   "cell_type": "markdown",
   "metadata": {},
   "source": [
    "## `Figure 10b`"
   ]
  },
  {
   "cell_type": "code",
   "execution_count": 201,
   "metadata": {},
   "outputs": [
    {
     "data": {
      "image/png": "[encoded data removed]",
      "text/plain": [
       "<Figure size 432x252 with 1 Axes>"
      ]
     },
     "metadata": {
      "needs_background": "light"
     },
     "output_type": "display_data"
    }
   ],
   "source": [
    "usable = {'dev':['Nokia 1','Nokia 1 Plus'],\n",
    "        'plt':[9.67, 8.1],\n",
    "         'ci':[3.36, 2.69]}\n",
    "\n",
    "usable = pd.DataFrame(usable) \n",
    "new_colors = ['red','blue']\n",
    "    \n",
    "plt.figure(figsize=(6,3.5))\n",
    "plt.bar(usable['dev'],usable['plt'],yerr=usable['ci'],color=new_colors,alpha=0.5, align='center',capsize=5,width=0.5)\n",
    "\n",
    "plt.xlabel('Device')\n",
    "plt.ylabel('Page Load Time (secs)')\n",
    "plt.tight_layout()\n",
    "plt.savefig('figs/plt_across_devices.png', dpi=400)\n",
    "plt.show()"
   ]
  },
  {
   "cell_type": "markdown",
   "metadata": {},
   "source": [
    "## Analysis of Android Versions"
   ]
  },
  {
   "cell_type": "code",
   "execution_count": 202,
   "metadata": {},
   "outputs": [],
   "source": [
    "dv = pd.read_excel(\"android_versions.xlsx\")"
   ]
  },
  {
   "cell_type": "code",
   "execution_count": 203,
   "metadata": {},
   "outputs": [
    {
     "name": "stdout",
     "output_type": "stream",
     "text": [
      "[Android 10] : 9.923750724637697 -- One-sided: 3.4637894502740045\n",
      "[Android 9]  : 9.88128695652174 -- One-sided: 3.4506268631548975\n"
     ]
    }
   ],
   "source": [
    "nokia_mean = dv[\"android_ten\"].mean()\n",
    "nokiaplus_mean = dv[\"android_nine\"].mean()\n",
    "\n",
    "nokia_s1=(nokia_mean - stats.norm.interval(alpha=0.95, loc=np.mean(dv[\"android_ten\"]), scale=stats.sem(dv[\"android_ten\"]))[0])/1000\n",
    "nokiaplus_s1=(nokiaplus_mean - stats.norm.interval(alpha=0.95, loc=np.mean(dv[\"android_nine\"]), scale=stats.sem(dv[\"android_nine\"]))[0])/1000\n",
    "\n",
    "print(\"[Android 10] :\", nokia_mean/1000, \"-- One-sided:\", nokia_s1)\n",
    "print(\"[Android 9]  :\", nokiaplus_mean/1000, \"-- One-sided:\", nokiaplus_s1)"
   ]
  },
  {
   "cell_type": "markdown",
   "metadata": {},
   "source": [
    "## `Figure 10a`"
   ]
  },
  {
   "cell_type": "code",
   "execution_count": 204,
   "metadata": {},
   "outputs": [
    {
     "data": {
      "image/png": "[encoded data removed]",
      "text/plain": [
       "<Figure size 432x252 with 1 Axes>"
      ]
     },
     "metadata": {
      "needs_background": "light"
     },
     "output_type": "display_data"
    }
   ],
   "source": [
    "usable = {'dev':['Android 10','Android 9'],\n",
    "        'plt':[9.92, 9.88],\n",
    "         'ci':[3.46, 3.45]}\n",
    "\n",
    "usable = pd.DataFrame(usable) \n",
    "new_colors = ['red','blue']\n",
    "    \n",
    "plt.figure(figsize=(6,3.5))\n",
    "plt.bar(usable['dev'],usable['plt'],yerr=usable['ci'],color=new_colors,alpha=0.5, align='center',capsize=5,width=0.5)\n",
    "\n",
    "plt.xlabel('Android Version')\n",
    "plt.ylabel('Page Load Time (secs)')\n",
    "plt.tight_layout()\n",
    "plt.savefig('figs/plt_across_versions.png', dpi=400)\n",
    "plt.show()"
   ]
  }
 ],
 "metadata": {
  "kernelspec": {
   "display_name": "Python 3 (ipykernel)",
   "language": "python",
   "name": "python3"
  },
  "language_info": {
   "codemirror_mode": {
    "name": "ipython",
    "version": 3
   },
   "file_extension": ".py",
   "mimetype": "text/x-python",
   "name": "python",
   "nbconvert_exporter": "python",
   "pygments_lexer": "ipython3",
   "version": "3.8.12"
  }
 },
 "nbformat": 4,
 "nbformat_minor": 2
}
